{
 "cells": [
  {
   "cell_type": "code",
   "execution_count": 1120,
   "metadata": {},
   "outputs": [],
   "source": [
    "import re\n",
    "import copy\n",
    "import math\n",
    "import numpy as np\n",
    "from functools import reduce, lru_cache\n",
    "import itertools\n",
    "import operator"
   ]
  },
  {
   "cell_type": "markdown",
   "metadata": {},
   "source": [
    "# Day 1"
   ]
  },
  {
   "cell_type": "code",
   "execution_count": null,
   "metadata": {},
   "outputs": [],
   "source": [
    "test = [\n",
    "    1721,\n",
    "    979,\n",
    "    366,\n",
    "    299,\n",
    "    675,\n",
    "    1456\n",
    "]"
   ]
  },
  {
   "cell_type": "code",
   "execution_count": null,
   "metadata": {},
   "outputs": [],
   "source": [
    "with open('input1.txt') as f:\n",
    "    lines = f.read().splitlines()\n",
    "    lines = [int(line) for line in lines]"
   ]
  },
  {
   "cell_type": "markdown",
   "metadata": {},
   "source": [
    "## Part 1"
   ]
  },
  {
   "cell_type": "code",
   "execution_count": null,
   "metadata": {},
   "outputs": [],
   "source": [
    "def two_factors_sum_2020(expenses, target_sum=2020):\n",
    "    start = 0\n",
    "    end = len(expenses) - 1\n",
    "\n",
    "    expenses_sorted = sorted(expenses)\n",
    "    \n",
    "    while start < end:\n",
    "        current_sum = expenses_sorted[start] + expenses_sorted[end]\n",
    "        if current_sum == target_sum:\n",
    "            return expenses_sorted[start] * expenses_sorted[end]\n",
    "        elif current_sum < target_sum:\n",
    "            start += 1\n",
    "        else:\n",
    "            end -= 1\n",
    "\n",
    "    return -1"
   ]
  },
  {
   "cell_type": "code",
   "execution_count": null,
   "metadata": {},
   "outputs": [],
   "source": [
    "two_factors_sum_2020(test)"
   ]
  },
  {
   "cell_type": "code",
   "execution_count": null,
   "metadata": {},
   "outputs": [],
   "source": [
    "two_factors_sum_2020(lines)"
   ]
  },
  {
   "cell_type": "markdown",
   "metadata": {},
   "source": [
    "## Part 2"
   ]
  },
  {
   "cell_type": "code",
   "execution_count": null,
   "metadata": {},
   "outputs": [],
   "source": [
    "# def delta(form, pos):\n",
    "#     left = abs(form[pos] - form[pos-1]) if pos-1 >= 0 else np.inf\n",
    "#     right = abs(form[pos] - form[pos+1]) if pos+1 < len(form) else np.inf\n",
    "#     return [left, right]"
   ]
  },
  {
   "cell_type": "code",
   "execution_count": null,
   "metadata": {},
   "outputs": [],
   "source": [
    "def three_factors_sum_2020(expenses, target_sum=2020):    \n",
    "    first = 0\n",
    "    second = first + 1\n",
    "\n",
    "    expenses_sorted = sorted(expenses)\n",
    "    \n",
    "    values = {val: i for i, val in enumerate(expenses_sorted)}\n",
    "        \n",
    "    while second < len(expenses_sorted):\n",
    "        while expenses_sorted[first] + expenses_sorted[second] < target_sum:\n",
    "            current_delta = target_sum - expenses_sorted[first] - expenses_sorted[second]\n",
    "            values_index = values.get(current_delta)\n",
    "            if values_index and values_index != first and values_index != second:\n",
    "                return expenses_sorted[first] * expenses_sorted[second] * expenses_sorted[values_index]\n",
    "            second += 1\n",
    "        first += 1\n",
    "        second = first + 1\n",
    "\n",
    "    return -1"
   ]
  },
  {
   "cell_type": "code",
   "execution_count": null,
   "metadata": {},
   "outputs": [],
   "source": [
    "three_factors_sum_2020(test)"
   ]
  },
  {
   "cell_type": "code",
   "execution_count": null,
   "metadata": {},
   "outputs": [],
   "source": [
    "three_factors_sum_2020(lines)"
   ]
  },
  {
   "cell_type": "markdown",
   "metadata": {},
   "source": [
    "# Day 2"
   ]
  },
  {
   "cell_type": "code",
   "execution_count": null,
   "metadata": {},
   "outputs": [],
   "source": [
    "test = [\n",
    "    \"1-3 a: abcde\",\n",
    "    \"1-3 b: cdefg\",\n",
    "    \"2-9 c: ccccccccc\"\n",
    "]"
   ]
  },
  {
   "cell_type": "code",
   "execution_count": null,
   "metadata": {},
   "outputs": [],
   "source": [
    "with open('input2.txt') as f:\n",
    "    lines = f.read().splitlines()"
   ]
  },
  {
   "cell_type": "markdown",
   "metadata": {},
   "source": [
    "## Part 1"
   ]
  },
  {
   "cell_type": "code",
   "execution_count": null,
   "metadata": {},
   "outputs": [],
   "source": [
    "def parse_input(input_str):    \n",
    "    start_no, end_no, letter, target_str = re.findall(\"([0-9]+)-([0-9]+) ([a-z]): ([a-z]+)\", input_str)[0]\n",
    "    return int(start_no), int(end_no), letter, target_str"
   ]
  },
  {
   "cell_type": "code",
   "execution_count": null,
   "metadata": {},
   "outputs": [],
   "source": [
    "def valid_pw(min_occurence, max_occurence, letter, target_str):\n",
    "    count = 0\n",
    "    i = 0\n",
    "    while i < len(target_str) and count <= max_occurence:\n",
    "        if target_str[i] == letter:\n",
    "            count += 1\n",
    "        i += 1\n",
    "        \n",
    "    return int(min_occurence <= count <= max_occurence)"
   ]
  },
  {
   "cell_type": "code",
   "execution_count": null,
   "metadata": {},
   "outputs": [],
   "source": [
    "# test\n",
    "[valid_pw(*parse_input(s)) for s in test]"
   ]
  },
  {
   "cell_type": "code",
   "execution_count": null,
   "metadata": {},
   "outputs": [],
   "source": [
    "sum([valid_pw(*parse_input(s)) for s in lines])"
   ]
  },
  {
   "cell_type": "markdown",
   "metadata": {},
   "source": [
    "## Part 2"
   ]
  },
  {
   "cell_type": "code",
   "execution_count": null,
   "metadata": {},
   "outputs": [],
   "source": [
    "def valid_pw_2(first_pos, second_pos, letter, target_str):\n",
    "    first_hit = target_str[first_pos-1] == letter\n",
    "    second_hit = target_str[second_pos-1] == letter\n",
    "    return int((first_hit and not second_hit) or (not first_hit and second_hit))"
   ]
  },
  {
   "cell_type": "code",
   "execution_count": null,
   "metadata": {},
   "outputs": [],
   "source": [
    "# test\n",
    "[valid_pw_2(*parse_input(s)) for s in test]"
   ]
  },
  {
   "cell_type": "code",
   "execution_count": null,
   "metadata": {},
   "outputs": [],
   "source": [
    "sum([valid_pw_2(*parse_input(s)) for s in lines])"
   ]
  },
  {
   "cell_type": "markdown",
   "metadata": {},
   "source": [
    "# Day 3"
   ]
  },
  {
   "cell_type": "markdown",
   "metadata": {},
   "source": [
    "## Part 1 "
   ]
  },
  {
   "cell_type": "code",
   "execution_count": null,
   "metadata": {},
   "outputs": [],
   "source": [
    "test = [\n",
    "    \"..##.......\",\n",
    "    \"#...#...#..\",\n",
    "    \".#....#..#.\",\n",
    "    \"..#.#...#.#\",\n",
    "    \".#...##..#.\",\n",
    "    \"..#.##.....\",\n",
    "    \".#.#.#....#\",\n",
    "    \".#........#\",\n",
    "    \"#.##...#...\",\n",
    "    \"#...##....#\",\n",
    "    \".#..#...#.#\"]"
   ]
  },
  {
   "cell_type": "code",
   "execution_count": null,
   "metadata": {},
   "outputs": [],
   "source": [
    "with open('input3.txt') as f:\n",
    "    lines = f.read().splitlines()\n",
    "    lines = [str(line) for line in lines]"
   ]
  },
  {
   "cell_type": "code",
   "execution_count": null,
   "metadata": {},
   "outputs": [],
   "source": [
    "def count_trees(field, right = 3, down = 1):\n",
    "    pos_y = 0\n",
    "    pos_x = 0\n",
    "    row_len = len(field[pos_y])\n",
    "    count = {\n",
    "        \"#\": 0,\n",
    "        \".\": 0\n",
    "    }\n",
    "    while pos_y < len(field):\n",
    "        count[field[pos_y][pos_x % row_len]] += 1\n",
    "        pos_y += down\n",
    "        pos_x += right\n",
    "        \n",
    "    return count[\"#\"]"
   ]
  },
  {
   "cell_type": "code",
   "execution_count": null,
   "metadata": {},
   "outputs": [],
   "source": [
    "count_trees(test)"
   ]
  },
  {
   "cell_type": "code",
   "execution_count": null,
   "metadata": {},
   "outputs": [],
   "source": [
    "count_trees(lines)"
   ]
  },
  {
   "cell_type": "markdown",
   "metadata": {},
   "source": [
    "## Part 2"
   ]
  },
  {
   "cell_type": "code",
   "execution_count": null,
   "metadata": {},
   "outputs": [],
   "source": [
    "slopes = [(1,1), (3,1), (5,1), (7,1), (1,2)]"
   ]
  },
  {
   "cell_type": "code",
   "execution_count": null,
   "metadata": {},
   "outputs": [],
   "source": [
    "def slopes_product(field, slopes):\n",
    "    product = 1\n",
    "    for slope in slopes:\n",
    "        trees = count_trees(field, *slope)\n",
    "        print(trees)\n",
    "        product *= trees\n",
    "\n",
    "    print(f\"Product: {product}\")"
   ]
  },
  {
   "cell_type": "code",
   "execution_count": null,
   "metadata": {},
   "outputs": [],
   "source": [
    "slopes_product(test, slopes)"
   ]
  },
  {
   "cell_type": "code",
   "execution_count": null,
   "metadata": {},
   "outputs": [],
   "source": [
    "slopes_product(lines, slopes)"
   ]
  },
  {
   "cell_type": "markdown",
   "metadata": {},
   "source": [
    "# Day 4"
   ]
  },
  {
   "cell_type": "markdown",
   "metadata": {},
   "source": [
    "## Part 1"
   ]
  },
  {
   "cell_type": "code",
   "execution_count": null,
   "metadata": {},
   "outputs": [],
   "source": [
    "def get_passports(lines):\n",
    "    passport_objs = []\n",
    "    for line in lines.split(\"\\n\\n\"):\n",
    "        line = line.replace(\"\\n\", \" \")\n",
    "        obj = {pair.split(\":\")[0]:pair.split(\":\")[1] for pair in line.split(\" \") if \":\" in pair}\n",
    "        passport_objs.append(obj)\n",
    "        \n",
    "    return passport_objs"
   ]
  },
  {
   "cell_type": "code",
   "execution_count": null,
   "metadata": {},
   "outputs": [],
   "source": [
    "test_string = \"\"\"\n",
    "ecl:gry pid:860033327 eyr:2020 hcl:#fffffd\n",
    "byr:1937 iyr:2017 cid:147 hgt:183cm\n",
    "\n",
    "iyr:2013 ecl:amb cid:350 eyr:2023 pid:028048884\n",
    "hcl:#cfa07d byr:1929\n",
    "\n",
    "hcl:#ae17e1 iyr:2013\n",
    "eyr:2024\n",
    "ecl:brn pid:760753108 byr:1931\n",
    "hgt:179cm\n",
    "\n",
    "hcl:#cfa07d eyr:2025 pid:166559648\n",
    "iyr:2011 ecl:brn hgt:59in\"\"\"\n",
    "\n",
    "valid_pps_string = \"\"\"\n",
    "pid:087499704 hgt:74in ecl:grn iyr:2012 eyr:2030 byr:1980\n",
    "hcl:#623a2f\n",
    "\n",
    "eyr:2029 ecl:blu cid:129 byr:1989\n",
    "iyr:2014 pid:896056539 hcl:#a97842 hgt:165cm\n",
    "\n",
    "hcl:#888785\n",
    "hgt:164cm byr:2001 iyr:2015 cid:88\n",
    "pid:545766238 ecl:hzl\n",
    "eyr:2022\n",
    "\n",
    "iyr:2010 hgt:158cm hcl:#b6652a ecl:blu byr:1944 eyr:2021 pid:093154719\"\"\"\n",
    "\n",
    "invalid_pps_string = \"\"\"\n",
    "eyr:1972 cid:100\n",
    "hcl:#18171d ecl:amb hgt:170 pid:186cm iyr:2018 byr:1926\n",
    "\n",
    "iyr:2019\n",
    "hcl:#602927 eyr:1967 hgt:170cm\n",
    "ecl:grn pid:012533040 byr:1946\n",
    "\n",
    "hcl:dab227 iyr:2012\n",
    "ecl:brn hgt:182cm pid:021572410 eyr:2020 byr:1992 cid:277\n",
    "\n",
    "hgt:59cm ecl:zzz\n",
    "eyr:2038 hcl:74454a iyr:2023\n",
    "pid:3556412378 byr:2007\"\"\"\n",
    "\n",
    "test = get_passports(test_string)\n",
    "valid_pps = get_passports(valid_pps_string)\n",
    "invalid_pps = get_passports(invalid_pps_string)"
   ]
  },
  {
   "cell_type": "code",
   "execution_count": null,
   "metadata": {},
   "outputs": [],
   "source": [
    "with open('input4.txt') as f:\n",
    "    lines = get_passports(f.read())"
   ]
  },
  {
   "cell_type": "code",
   "execution_count": null,
   "metadata": {},
   "outputs": [],
   "source": []
  },
  {
   "cell_type": "code",
   "execution_count": null,
   "metadata": {},
   "outputs": [],
   "source": [
    "value = \"0125330400\"\n",
    "re.findall(\"^[0-9]{9}$\", value)"
   ]
  },
  {
   "cell_type": "code",
   "execution_count": null,
   "metadata": {},
   "outputs": [],
   "source": [
    "# byr (Birth Year) - four digits; at least 1920 and at most 2002.\n",
    "# iyr (Issue Year) - four digits; at least 2010 and at most 2020.\n",
    "# eyr (Expiration Year) - four digits; at least 2020 and at most 2030.\n",
    "# hgt (Height) - a number followed by either cm or in:\n",
    "# If cm, the number must be at least 150 and at most 193.\n",
    "# If in, the number must be at least 59 and at most 76.\n",
    "# hcl (Hair Color) - a # followed by exactly six characters 0-9 or a-f.\n",
    "# ecl (Eye Color) - exactly one of: amb blu brn gry grn hzl oth.\n",
    "# pid (Passport ID) - a nine-digit number, including leading zeroes.\n",
    "# cid (Country ID) - ignored, missing or not.\n",
    "\n",
    "def validate_passport(passport):\n",
    "    fields_valid = []\n",
    "    required_fields = {'ecl', 'pid', 'eyr', 'hcl', 'byr', 'iyr', 'cid', 'hgt'}\n",
    "    \n",
    "    diff = required_fields.difference(passport)\n",
    "    if (len(diff) == 0) or (len(diff) == 1 and \"cid\" in diff):\n",
    "        for key, value in passport.items():\n",
    "            if key == \"byr\":\n",
    "                fields_valid.append(len(value) == 4 and 1920 <= int(value) <= 2002)\n",
    "            elif key == \"iyr\":\n",
    "                fields_valid.append(len(value) == 4 and 2010 <= int(value) <= 2020)\n",
    "            elif key == \"eyr\":\n",
    "                fields_valid.append(len(value) == 4 and 2020 <= int(value) <= 2030)\n",
    "            elif key == \"hgt\":\n",
    "                height_unit = re.findall(\"([0-9]+)(cm|in)\", value)\n",
    "                height, unit = height_unit[0] if height_unit else (-1, \"\")\n",
    "                fields_valid.append(150 <= int(height) <= 193 if unit == \"cm\" else 59 <= int(height) <= 76)\n",
    "            elif key == \"hcl\":\n",
    "                fields_valid.append(re.findall(\"#[0-9a-f]{6}$\", value) != [])\n",
    "            elif key == \"ecl\":\n",
    "                fields_valid.append(value in {\"amb\", \"blu\", \"brn\", \"gry\", \"grn\", \"hzl\", \"oth\"})\n",
    "            elif key == \"pid\":\n",
    "                fields_valid.append(re.findall(\"^[0-9]{9}$\", value) != [])        \n",
    "            elif key == \"cid\":\n",
    "                fields_valid.append(True)\n",
    "            else: \n",
    "                print(\"Unknown field!\")\n",
    "\n",
    "        return all(fields_valid)\n",
    "    return False"
   ]
  },
  {
   "cell_type": "code",
   "execution_count": null,
   "metadata": {},
   "outputs": [],
   "source": [
    "def valid_passports(passports):\n",
    "    valid_pps = 0\n",
    "    \n",
    "    for passport in passports:\n",
    "        valid_pps += int(validate_passport(passport))\n",
    "            \n",
    "    return valid_pps"
   ]
  },
  {
   "cell_type": "code",
   "execution_count": null,
   "metadata": {},
   "outputs": [],
   "source": [
    "valid_passports(test)"
   ]
  },
  {
   "cell_type": "code",
   "execution_count": null,
   "metadata": {},
   "outputs": [],
   "source": [
    "valid_passports(valid_pps)"
   ]
  },
  {
   "cell_type": "code",
   "execution_count": null,
   "metadata": {},
   "outputs": [],
   "source": [
    "valid_passports(invalid_pps)"
   ]
  },
  {
   "cell_type": "code",
   "execution_count": null,
   "metadata": {},
   "outputs": [],
   "source": [
    "# byr (Birth Year) - four digits; at least 1920 and at most 2002.\n",
    "# iyr (Issue Year) - four digits; at least 2010 and at most 2020.\n",
    "# eyr (Expiration Year) - four digits; at least 2020 and at most 2030.\n",
    "# hgt (Height) - a number followed by either cm or in:\n",
    "# If cm, the number must be at least 150 and at most 193.\n",
    "# If in, the number must be at least 59 and at most 76.\n",
    "# hcl (Hair Color) - a # followed by exactly six characters 0-9 or a-f.\n",
    "# ecl (Eye Color) - exactly one of: amb blu brn gry grn hzl oth.\n",
    "# pid (Passport ID) - a nine-digit number, including leading zeroes.\n",
    "# cid (Country ID) - ignored, missing or not."
   ]
  },
  {
   "cell_type": "code",
   "execution_count": null,
   "metadata": {},
   "outputs": [],
   "source": [
    "valid_passports(lines)"
   ]
  },
  {
   "cell_type": "markdown",
   "metadata": {},
   "source": [
    "# Day 5"
   ]
  },
  {
   "cell_type": "code",
   "execution_count": null,
   "metadata": {},
   "outputs": [],
   "source": [
    "boarding_passes = [\n",
    "    \"BFFFBBFRRR\", #: row 70, column 7, seat ID 567.\n",
    "    \"FFFBBBFRRR\", #: row 14, column 7, seat ID 119.\n",
    "    \"BBFFBBFRLL\" #: row 102, column 4, seat ID 820.\n",
    "]"
   ]
  },
  {
   "cell_type": "code",
   "execution_count": null,
   "metadata": {},
   "outputs": [],
   "source": [
    "with open('input5.txt') as f:\n",
    "    lines = f.read().splitlines()"
   ]
  },
  {
   "cell_type": "code",
   "execution_count": null,
   "metadata": {},
   "outputs": [],
   "source": [
    "letter_to_binary = {\n",
    "    \"B\": 1,\n",
    "    \"F\": 0,\n",
    "    \"R\": 1,\n",
    "    \"L\": 0\n",
    "}\n",
    "binary_to_row = {\n",
    "    1: \"B\",\n",
    "    0: \"F\"\n",
    "}\n",
    "binary_to_col = {\n",
    "    1: \"R\",\n",
    "    0: \"L\"\n",
    "}"
   ]
  },
  {
   "cell_type": "markdown",
   "metadata": {},
   "source": [
    "## Part 1"
   ]
  },
  {
   "cell_type": "code",
   "execution_count": 106,
   "metadata": {},
   "outputs": [],
   "source": [
    "def string_to_binary(string, pos=0, mapping=lambda x: x, system=2):\n",
    "    if string == \"\":\n",
    "        return 0\n",
    "    pos_value = system ** pos if mapping(string[-1]) else 0\n",
    "    return pos_value + string_to_binary(string[:-1], pos+1, mapping, system)"
   ]
  },
  {
   "cell_type": "code",
   "execution_count": null,
   "metadata": {},
   "outputs": [],
   "source": [
    "def boarding_pass_to_seat_id(boarding_pass_id, split=7):\n",
    "    row = string_to_binary(boarding_pass_id[:split], pos=0, mapping=lambda x: letter_to_binary.get(x))\n",
    "    column = string_to_binary(boarding_pass_id[split:], pos=0, mapping=lambda x: letter_to_binary.get(x))\n",
    "    \n",
    "    return row * 8 + column"
   ]
  },
  {
   "cell_type": "code",
   "execution_count": null,
   "metadata": {},
   "outputs": [],
   "source": [
    "[boarding_pass_to_seat_id(pass_id) for pass_id in boarding_passes]"
   ]
  },
  {
   "cell_type": "code",
   "execution_count": null,
   "metadata": {},
   "outputs": [],
   "source": [
    "max([boarding_pass_to_seat_id(pass_id) for pass_id in lines])"
   ]
  },
  {
   "cell_type": "markdown",
   "metadata": {},
   "source": [
    "## Part 2"
   ]
  },
  {
   "cell_type": "code",
   "execution_count": null,
   "metadata": {},
   "outputs": [],
   "source": [
    "def generate_binary(length=3, system=2):\n",
    "    binary = [0] * length\n",
    "    for i in range(system ** length):\n",
    "        yield binary\n",
    "        j = len(binary)-1\n",
    "        carry = 1\n",
    "        while carry > 0 and j >= 0:\n",
    "            carry = binary[j] & 1\n",
    "            binary[j] = binary[j] ^ 1\n",
    "            j -= 1"
   ]
  },
  {
   "cell_type": "code",
   "execution_count": null,
   "metadata": {},
   "outputs": [],
   "source": [
    "for binary in generate_binary(length=2):\n",
    "    print(\"\".join([binary_to_row[i] for i in binary]))"
   ]
  },
  {
   "cell_type": "code",
   "execution_count": null,
   "metadata": {},
   "outputs": [],
   "source": [
    "all_seats = set()\n",
    "for row_binary in generate_binary(length=7):\n",
    "    row_string = \"\".join([binary_to_row[i] for i in row_binary])\n",
    "    for col_binary in generate_binary(length=3):\n",
    "        col_string = \"\".join([binary_to_col[j] for j in col_binary])\n",
    "        all_seats.add(boarding_pass_to_seat_id(row_string + col_string))"
   ]
  },
  {
   "cell_type": "code",
   "execution_count": null,
   "metadata": {},
   "outputs": [],
   "source": [
    "boarding_pass_to_seat_id(\"BFFFBBBLLL\")"
   ]
  },
  {
   "cell_type": "code",
   "execution_count": null,
   "metadata": {},
   "outputs": [],
   "source": [
    "seats_set = set([boarding_pass_to_seat_id(pass_id) for pass_id in lines])\n",
    "for num in all_seats:\n",
    "    if num+1 in seats_set and num-1 in seats_set and num not in seats_set:\n",
    "        print(num)"
   ]
  },
  {
   "cell_type": "markdown",
   "metadata": {},
   "source": [
    "# Day 6"
   ]
  },
  {
   "cell_type": "code",
   "execution_count": null,
   "metadata": {},
   "outputs": [],
   "source": [
    "test_string = \"\"\"abc\n",
    "\n",
    "a\n",
    "b\n",
    "c\n",
    "\n",
    "ab\n",
    "ac\n",
    "\n",
    "a\n",
    "a\n",
    "a\n",
    "a\n",
    "\n",
    "b\"\"\"\n",
    "test = [string.split(\"\\n\") for string in test_string.split(\"\\n\\n\")]"
   ]
  },
  {
   "cell_type": "code",
   "execution_count": null,
   "metadata": {},
   "outputs": [],
   "source": [
    "with open('input6.txt') as f:\n",
    "    lines = f.read()\n",
    "    lines = [line.split(\"\\n\") for line in lines.split(\"\\n\\n\")]"
   ]
  },
  {
   "cell_type": "markdown",
   "metadata": {},
   "source": [
    "## Part 1"
   ]
  },
  {
   "cell_type": "code",
   "execution_count": null,
   "metadata": {},
   "outputs": [],
   "source": [
    "def questions_anyone_said_yes(group_answers):\n",
    "    yes = {}\n",
    "    for person_answer in group_answers:\n",
    "        for answer in person_answer:\n",
    "            yes[answer] = 1\n",
    "    return len(yes.keys())"
   ]
  },
  {
   "cell_type": "code",
   "execution_count": null,
   "metadata": {},
   "outputs": [],
   "source": [
    "sum([questions_anyone_said_yes(answer) for answer in test])"
   ]
  },
  {
   "cell_type": "code",
   "execution_count": null,
   "metadata": {},
   "outputs": [],
   "source": [
    "sum([questions_anyone_said_yes(answer) for answer in lines])"
   ]
  },
  {
   "cell_type": "markdown",
   "metadata": {},
   "source": [
    "## Part 2"
   ]
  },
  {
   "cell_type": "code",
   "execution_count": null,
   "metadata": {},
   "outputs": [],
   "source": [
    "test"
   ]
  },
  {
   "cell_type": "code",
   "execution_count": null,
   "metadata": {},
   "outputs": [],
   "source": [
    "def questions_everyone_said_yes(group_answers):\n",
    "    yes = set(group_answers[0])\n",
    "    for i in range(1, len(group_answers)):\n",
    "        yes = yes.intersection(set(group_answers[i]))\n",
    "    return len(yes)"
   ]
  },
  {
   "cell_type": "code",
   "execution_count": null,
   "metadata": {},
   "outputs": [],
   "source": [
    "sum([questions_everyone_said_yes(answer) for answer in test])"
   ]
  },
  {
   "cell_type": "code",
   "execution_count": null,
   "metadata": {},
   "outputs": [],
   "source": [
    "sum([questions_everyone_said_yes(answer) for answer in lines])"
   ]
  },
  {
   "cell_type": "markdown",
   "metadata": {},
   "source": [
    "# Day 7"
   ]
  },
  {
   "cell_type": "code",
   "execution_count": null,
   "metadata": {},
   "outputs": [],
   "source": [
    "test_string = \"\"\"light red bags contain 1 bright white bag, 2 muted yellow bags.\n",
    "dark orange bags contain 3 bright white bags, 4 muted yellow bags.\n",
    "bright white bags contain 1 shiny gold bag.\n",
    "muted yellow bags contain 2 shiny gold bags, 9 faded blue bags.\n",
    "shiny gold bags contain 1 dark olive bag, 2 vibrant plum bags.\n",
    "dark olive bags contain 3 faded blue bags, 4 dotted black bags.\n",
    "vibrant plum bags contain 5 faded blue bags, 6 dotted black bags.\n",
    "faded blue bags contain no other bags.\n",
    "dotted black bags contain no other bags.\"\"\"\n",
    "\n",
    "test = test_string.split(\"\\n\")"
   ]
  },
  {
   "cell_type": "code",
   "execution_count": null,
   "metadata": {},
   "outputs": [],
   "source": [
    "with open('input7.txt') as f:\n",
    "    lines = f.read().splitlines()"
   ]
  },
  {
   "cell_type": "code",
   "execution_count": null,
   "metadata": {},
   "outputs": [],
   "source": [
    "def parse_input_rules(observations):\n",
    "    d = {}\n",
    "    clean_sentence = lambda x: x.replace(\"bags\", \"bag\").replace(\".\", \"\").strip()\n",
    "    for line in observations:\n",
    "        head, tail = line.split(\"contain\")\n",
    "        head = clean_sentence(head)\n",
    "        d[head] = {}\n",
    "        for bag_string in tail.split(\",\"):\n",
    "            parsed_bag_string = re.findall(\"([0-9]+) (.*)\", clean_sentence(bag_string))\n",
    "            if parsed_bag_string:\n",
    "                amount, bag = parsed_bag_string[0]\n",
    "                d[head][bag] = amount\n",
    "    return d"
   ]
  },
  {
   "cell_type": "markdown",
   "metadata": {},
   "source": [
    "## Part 1"
   ]
  },
  {
   "cell_type": "code",
   "execution_count": null,
   "metadata": {},
   "outputs": [],
   "source": [
    "def node_contains_target(target, node, rules):\n",
    "    if rules[node] == {}:\n",
    "        return False\n",
    "    if target in rules[node]:\n",
    "        return True\n",
    "    return any([node_contains_target(target, node_key, rules) for node_key in rules[node].keys()])"
   ]
  },
  {
   "cell_type": "code",
   "execution_count": null,
   "metadata": {},
   "outputs": [],
   "source": [
    "def number_of_bags(target, rules):\n",
    "    target_count = 0\n",
    "    for key in list(rules.keys()):\n",
    "        if node_contains_target(target, key, rules):\n",
    "            target_count += 1\n",
    "    return target_count"
   ]
  },
  {
   "cell_type": "code",
   "execution_count": null,
   "metadata": {},
   "outputs": [],
   "source": [
    "rules = parse_input_rules(test)\n",
    "number_of_bags('shiny gold bag', rules)"
   ]
  },
  {
   "cell_type": "code",
   "execution_count": null,
   "metadata": {},
   "outputs": [],
   "source": [
    "rules = parse_input_rules(lines)\n",
    "number_of_bags('shiny gold bag', rules)"
   ]
  },
  {
   "cell_type": "markdown",
   "metadata": {},
   "source": [
    "## Part 2"
   ]
  },
  {
   "cell_type": "code",
   "execution_count": null,
   "metadata": {},
   "outputs": [],
   "source": [
    "test_string2 = \"\"\"shiny gold bags contain 2 dark red bags.\n",
    "dark red bags contain 2 dark orange bags.\n",
    "dark orange bags contain 2 dark yellow bags.\n",
    "dark yellow bags contain 2 dark green bags.\n",
    "dark green bags contain 2 dark blue bags.\n",
    "dark blue bags contain 2 dark violet bags.\n",
    "dark violet bags contain no other bags.\"\"\"\n",
    "\n",
    "test2 = test_string2.split(\"\\n\")"
   ]
  },
  {
   "cell_type": "code",
   "execution_count": null,
   "metadata": {},
   "outputs": [],
   "source": [
    "def number_of_bags_in_bag(node, rules):\n",
    "    if rules[node] == {}:\n",
    "        return 0\n",
    "    return sum([int(amount) + (int(amount) * number_of_bags_in_bag(node_key, rules)) for node_key, amount in rules[node].items()])"
   ]
  },
  {
   "cell_type": "code",
   "execution_count": null,
   "metadata": {},
   "outputs": [],
   "source": [
    "rules = parse_input_rules(test)\n",
    "number_of_bags_in_bag('shiny gold bag', rules)"
   ]
  },
  {
   "cell_type": "code",
   "execution_count": null,
   "metadata": {},
   "outputs": [],
   "source": [
    "rules = parse_input_rules(test2)\n",
    "number_of_bags_in_bag('shiny gold bag', rules)"
   ]
  },
  {
   "cell_type": "code",
   "execution_count": null,
   "metadata": {},
   "outputs": [],
   "source": [
    "rules = parse_input_rules(lines)\n",
    "number_of_bags_in_bag('shiny gold bag', rules)"
   ]
  },
  {
   "cell_type": "markdown",
   "metadata": {},
   "source": [
    "# Day 8"
   ]
  },
  {
   "cell_type": "code",
   "execution_count": null,
   "metadata": {},
   "outputs": [],
   "source": [
    "test_string = \"\"\"nop +0\n",
    "acc +1\n",
    "jmp +4\n",
    "acc +3\n",
    "jmp -3\n",
    "acc -99\n",
    "acc +1\n",
    "jmp -4\n",
    "acc +6\"\"\"\n",
    "\n",
    "test = test_string.split(\"\\n\")"
   ]
  },
  {
   "cell_type": "code",
   "execution_count": null,
   "metadata": {},
   "outputs": [],
   "source": [
    "with open('input8.txt') as f:\n",
    "    lines = f.read().splitlines()"
   ]
  },
  {
   "cell_type": "markdown",
   "metadata": {},
   "source": [
    "## Part 1"
   ]
  },
  {
   "cell_type": "code",
   "execution_count": null,
   "metadata": {},
   "outputs": [],
   "source": [
    "def parse_command(command):\n",
    "    instr, sign, number = re.findall(\"(nop|acc|jmp) ([+-])([0-9]+)\", command)[0]\n",
    "    number = int(number)\n",
    "    if sign == \"-\":\n",
    "        number *= -1\n",
    "        \n",
    "    return instr, number"
   ]
  },
  {
   "cell_type": "code",
   "execution_count": null,
   "metadata": {},
   "outputs": [],
   "source": [
    "def debug_code(commands):\n",
    "    commands_copy = commands.copy()\n",
    "    i = 0\n",
    "    acc = 0\n",
    "    while i < len(commands_copy) and commands_copy[i] != None:\n",
    "        instr, number = parse_command(commands_copy[i])\n",
    "        \n",
    "        commands_copy[i] = None\n",
    "        if instr == \"acc\":\n",
    "            acc += number\n",
    "            i += 1\n",
    "        elif instr == \"nop\":\n",
    "            i += 1\n",
    "        elif instr == \"jmp\":\n",
    "            i += number\n",
    "        else:\n",
    "            print(\"Invalid command!\")\n",
    "            break\n",
    "    return acc, i"
   ]
  },
  {
   "cell_type": "code",
   "execution_count": null,
   "metadata": {},
   "outputs": [],
   "source": [
    "debug_code(test)"
   ]
  },
  {
   "cell_type": "code",
   "execution_count": null,
   "metadata": {},
   "outputs": [],
   "source": [
    "debug_code(lines)"
   ]
  },
  {
   "cell_type": "markdown",
   "metadata": {},
   "source": [
    "## Part 2"
   ]
  },
  {
   "cell_type": "code",
   "execution_count": null,
   "metadata": {},
   "outputs": [],
   "source": [
    "def fix_code(commands):\n",
    "    i = 0\n",
    "    while i < len(commands):\n",
    "        commands_copy = commands.copy()\n",
    "        if \"nop\" in commands[i]:\n",
    "            commands_copy[i] = commands_copy[i].replace(\"nop\", \"jmp\")\n",
    "        if \"jmp\" in commands[i]:\n",
    "            commands_copy[i] = commands_copy[i].replace(\"jmp\", \"nop\")\n",
    "        acc, index = debug_code(commands_copy)\n",
    "        if index >= len(commands):\n",
    "            break\n",
    "        i += 1\n",
    "    return acc, i"
   ]
  },
  {
   "cell_type": "code",
   "execution_count": null,
   "metadata": {},
   "outputs": [],
   "source": [
    "fix_code(test)"
   ]
  },
  {
   "cell_type": "code",
   "execution_count": null,
   "metadata": {},
   "outputs": [],
   "source": [
    "fix_code(lines)"
   ]
  },
  {
   "cell_type": "markdown",
   "metadata": {},
   "source": [
    "# Day 9"
   ]
  },
  {
   "cell_type": "code",
   "execution_count": null,
   "metadata": {},
   "outputs": [],
   "source": [
    "test_string = \"\"\"35\n",
    "20\n",
    "15\n",
    "25\n",
    "47\n",
    "40\n",
    "62\n",
    "55\n",
    "65\n",
    "95\n",
    "102\n",
    "117\n",
    "150\n",
    "182\n",
    "127\n",
    "219\n",
    "299\n",
    "277\n",
    "309\n",
    "576\"\"\"\n",
    "\n",
    "test = [int(num) for num in test_string.split(\"\\n\")]"
   ]
  },
  {
   "cell_type": "code",
   "execution_count": null,
   "metadata": {},
   "outputs": [],
   "source": [
    "with open('input9.txt') as f:\n",
    "    lines_str = f.read().splitlines()\n",
    "    lines = [int(num) for num in lines_str]"
   ]
  },
  {
   "cell_type": "markdown",
   "metadata": {},
   "source": [
    "## Part 1"
   ]
  },
  {
   "cell_type": "code",
   "execution_count": null,
   "metadata": {},
   "outputs": [],
   "source": [
    "def contains_sum(l, target_sum):\n",
    "    left = 0\n",
    "    right = len(l)-1\n",
    "    l = sorted(l)\n",
    "    while left < right:\n",
    "        current_sum = l[left] + l[right]\n",
    "        if current_sum == target_sum:\n",
    "            return l[left], l[right]\n",
    "        elif current_sum < target_sum:\n",
    "            left += 1\n",
    "        else:\n",
    "            right -= 1\n",
    "    return -1, -1"
   ]
  },
  {
   "cell_type": "code",
   "execution_count": null,
   "metadata": {},
   "outputs": [],
   "source": [
    "def find_first_error(l, window_size=5):\n",
    "    left = 0\n",
    "    right = window_size-1\n",
    "    error = None\n",
    "    for i in range(window_size, len(l)):\n",
    "        window = l[left:right+1].copy()\n",
    "        sum_in_window = contains_sum(window, l[i])\n",
    "        if sum_in_window == (-1,-1):\n",
    "            error = l[i]\n",
    "            break\n",
    "        left += 1\n",
    "        right += 1\n",
    "    return error"
   ]
  },
  {
   "cell_type": "code",
   "execution_count": null,
   "metadata": {},
   "outputs": [],
   "source": [
    "find_first_error(test, window_size=5)"
   ]
  },
  {
   "cell_type": "code",
   "execution_count": null,
   "metadata": {},
   "outputs": [],
   "source": [
    "find_first_error(lines, window_size=25)"
   ]
  },
  {
   "cell_type": "markdown",
   "metadata": {},
   "source": [
    "## Part 2"
   ]
  },
  {
   "cell_type": "code",
   "execution_count": null,
   "metadata": {},
   "outputs": [],
   "source": [
    "def find_range_sum(l, target_sum):\n",
    "    left = 0\n",
    "    right = left+1\n",
    "    while right < len(l):\n",
    "        current_sum = sum(l[left:right+1])\n",
    "        if current_sum == target_sum:\n",
    "            return left, right\n",
    "        elif current_sum < target_sum or left+1 == right:\n",
    "            right += 1\n",
    "        else:\n",
    "            left += 1\n",
    "    return -1, -1"
   ]
  },
  {
   "cell_type": "code",
   "execution_count": null,
   "metadata": {},
   "outputs": [],
   "source": [
    "def find_encryption_weakness(l, window_size=5):\n",
    "    error = find_first_error(l, window_size=window_size)\n",
    "    range_indices = find_range_sum(l, error)\n",
    "    if range_indices != (-1, -1):\n",
    "        left, right = range_indices\n",
    "        return min(l[left:right+1]) + max(l[left:right+1])\n",
    "    return -1"
   ]
  },
  {
   "cell_type": "code",
   "execution_count": null,
   "metadata": {},
   "outputs": [],
   "source": [
    "find_encryption_weakness(test, window_size=5)"
   ]
  },
  {
   "cell_type": "code",
   "execution_count": null,
   "metadata": {},
   "outputs": [],
   "source": [
    "find_encryption_weakness(lines, window_size=25)"
   ]
  },
  {
   "cell_type": "markdown",
   "metadata": {},
   "source": [
    "# Day 10"
   ]
  },
  {
   "cell_type": "code",
   "execution_count": null,
   "metadata": {},
   "outputs": [],
   "source": [
    "test_string = \"\"\"16\n",
    "10\n",
    "15\n",
    "5\n",
    "1\n",
    "11\n",
    "7\n",
    "19\n",
    "6\n",
    "12\n",
    "4\"\"\"\n",
    "test = [int(num) for num in test_string.split(\"\\n\")]"
   ]
  },
  {
   "cell_type": "code",
   "execution_count": null,
   "metadata": {},
   "outputs": [],
   "source": [
    "test_string2 = \"\"\"28\n",
    "33\n",
    "18\n",
    "42\n",
    "31\n",
    "14\n",
    "46\n",
    "20\n",
    "48\n",
    "47\n",
    "24\n",
    "23\n",
    "49\n",
    "45\n",
    "19\n",
    "38\n",
    "39\n",
    "11\n",
    "1\n",
    "32\n",
    "25\n",
    "35\n",
    "8\n",
    "17\n",
    "7\n",
    "9\n",
    "4\n",
    "2\n",
    "34\n",
    "10\n",
    "3\"\"\"\n",
    "test2 = [int(num) for num in test_string2.split(\"\\n\")]"
   ]
  },
  {
   "cell_type": "code",
   "execution_count": null,
   "metadata": {},
   "outputs": [],
   "source": [
    "with open('input10.txt') as f:\n",
    "    lines_str = f.read().splitlines()\n",
    "    lines = [int(num) for num in lines_str]"
   ]
  },
  {
   "cell_type": "markdown",
   "metadata": {},
   "source": [
    "## Part 1"
   ]
  },
  {
   "cell_type": "code",
   "execution_count": null,
   "metadata": {},
   "outputs": [],
   "source": [
    "def find_jolt_differences(adapter_list, max_diff=3, built_in_jolts=3):\n",
    "    diffs = [0] * max_diff\n",
    "    # append built in adapter (always built_in_jolts away)\n",
    "    adapter_list = [0] + sorted(adapter_list) + [max(adapter_list)+built_in_jolts]\n",
    "    for i in range(len(adapter_list)-1):\n",
    "        diff = adapter_list[i+1] - adapter_list[i]\n",
    "        if diff > max_diff:\n",
    "            diffs = [-1, -1, -1]\n",
    "            break\n",
    "        diffs[diff-1] += 1\n",
    "    return diffs"
   ]
  },
  {
   "cell_type": "code",
   "execution_count": null,
   "metadata": {},
   "outputs": [],
   "source": [
    "diffs = find_jolt_differences(test)\n",
    "diffs[0] * diffs[2]"
   ]
  },
  {
   "cell_type": "code",
   "execution_count": null,
   "metadata": {},
   "outputs": [],
   "source": [
    "diffs = find_jolt_differences(test2)\n",
    "diffs[0] * diffs[2]"
   ]
  },
  {
   "cell_type": "code",
   "execution_count": null,
   "metadata": {},
   "outputs": [],
   "source": [
    "diffs = find_jolt_differences(lines)\n",
    "diffs[0] * diffs[2]"
   ]
  },
  {
   "cell_type": "markdown",
   "metadata": {},
   "source": [
    "## Part 2"
   ]
  },
  {
   "cell_type": "code",
   "execution_count": null,
   "metadata": {},
   "outputs": [],
   "source": [
    "# VERY BAD RUNTIME\n",
    "def find_arrangements_rec(input_list, max_diff=3):\n",
    "    if len(input_list) == 1:\n",
    "        return 1\n",
    "    i = 1\n",
    "    count = 0\n",
    "    while i < len(input_list) and input_list[i] <= input_list[0]+max_diff:\n",
    "        count += find_arrangements(input_list[i:], max_diff=max_diff)\n",
    "        i += 1\n",
    "        \n",
    "    return count"
   ]
  },
  {
   "cell_type": "code",
   "execution_count": null,
   "metadata": {},
   "outputs": [],
   "source": [
    "def find_arrangements(input_list, max_diff=3):\n",
    "    memory = {}\n",
    "    memory[0] = 1\n",
    "    for i in input_list[1:]:\n",
    "        memory[i] = memory.get(i-1, 0) + memory.get(i-2, 0) + memory.get(i-3, 0)\n",
    "\n",
    "    return memory.get(input_list[-1], -1)"
   ]
  },
  {
   "cell_type": "code",
   "execution_count": null,
   "metadata": {},
   "outputs": [],
   "source": [
    "def find_adapter_arrangements(adapter_list, max_diff=3, built_in_jolts=3):\n",
    "    adapter_list = [0] + sorted(adapter_list) + [max(adapter_list)+built_in_jolts]\n",
    "    arrangements = find_arrangements(adapter_list, max_diff=max_diff)\n",
    "    \n",
    "    return arrangements"
   ]
  },
  {
   "cell_type": "code",
   "execution_count": null,
   "metadata": {},
   "outputs": [],
   "source": [
    "find_adapter_arrangements(test)"
   ]
  },
  {
   "cell_type": "code",
   "execution_count": null,
   "metadata": {},
   "outputs": [],
   "source": [
    "find_adapter_arrangements(test2)"
   ]
  },
  {
   "cell_type": "code",
   "execution_count": null,
   "metadata": {},
   "outputs": [],
   "source": [
    "find_adapter_arrangements(lines)"
   ]
  },
  {
   "cell_type": "markdown",
   "metadata": {},
   "source": [
    "# Day 11"
   ]
  },
  {
   "cell_type": "code",
   "execution_count": null,
   "metadata": {},
   "outputs": [],
   "source": [
    "test_string = \"\"\"L.LL.LL.LL\n",
    "LLLLLLL.LL\n",
    "L.L.L..L..\n",
    "LLLL.LL.LL\n",
    "L.LL.LL.LL\n",
    "L.LLLLL.LL\n",
    "..L.L.....\n",
    "LLLLLLLLLL\n",
    "L.LLLLLL.L\n",
    "L.LLLLL.LL\"\"\"\n",
    "test = [list(string) for string in test_string.split(\"\\n\")]"
   ]
  },
  {
   "cell_type": "code",
   "execution_count": null,
   "metadata": {},
   "outputs": [],
   "source": [
    "with open('input11.txt') as f:\n",
    "    lines_str = f.read().splitlines()\n",
    "    lines = [list(string) for string in lines_str]"
   ]
  },
  {
   "cell_type": "markdown",
   "metadata": {},
   "source": [
    "## Part 1"
   ]
  },
  {
   "cell_type": "code",
   "execution_count": null,
   "metadata": {},
   "outputs": [],
   "source": [
    "def occupied_seats_around(arr, x, y):\n",
    "    count = 0\n",
    "    for row in range(-1, 2):\n",
    "        for col in range(-1, 2):\n",
    "            if not (row==0 and col==0) and 0<=row+y<len(arr) and 0<=col+x<len(arr[0]):\n",
    "                count += int(arr[row+y][col+x] == \"#\")\n",
    "    return count"
   ]
  },
  {
   "cell_type": "code",
   "execution_count": null,
   "metadata": {},
   "outputs": [],
   "source": [
    "def new_game_state(arr):\n",
    "    new_state = copy.deepcopy(arr)\n",
    "    for y in range(len(arr)):\n",
    "        for x in range(len(arr[0])):\n",
    "            seats_around = occupied_seats_around(arr, x, y)\n",
    "            if arr[y][x] == \"L\" and seats_around == 0:\n",
    "                new_state[y][x] = \"#\"\n",
    "            if arr[y][x] == \"#\" and seats_around >= 4:\n",
    "                new_state[y][x] = \"L\"\n",
    "    return new_state"
   ]
  },
  {
   "cell_type": "code",
   "execution_count": null,
   "metadata": {},
   "outputs": [],
   "source": [
    "count_occupied_seats = lambda arr: sum([int(x == \"#\") for y in arr for x in y])"
   ]
  },
  {
   "cell_type": "code",
   "execution_count": null,
   "metadata": {},
   "outputs": [],
   "source": [
    "def play(state):\n",
    "    previous_state = None\n",
    "    while previous_state != state:\n",
    "        previous_state = state\n",
    "        state = new_game_state(previous_state)\n",
    "        \n",
    "    return count_occupied_seats(state)"
   ]
  },
  {
   "cell_type": "code",
   "execution_count": null,
   "metadata": {},
   "outputs": [],
   "source": [
    "play(test)"
   ]
  },
  {
   "cell_type": "code",
   "execution_count": null,
   "metadata": {},
   "outputs": [],
   "source": [
    "play(lines)"
   ]
  },
  {
   "cell_type": "markdown",
   "metadata": {},
   "source": [
    "## Part 2"
   ]
  },
  {
   "cell_type": "code",
   "execution_count": null,
   "metadata": {},
   "outputs": [],
   "source": [
    "t = \"\"\".......#.\n",
    "...#.....\n",
    ".#.......\n",
    ".........\n",
    "..#L....#\n",
    "....#....\n",
    ".........\n",
    "#........\n",
    "...#.....\"\"\"\n",
    "tt = [list(string) for string in t.split(\"\\n\")]"
   ]
  },
  {
   "cell_type": "code",
   "execution_count": null,
   "metadata": {},
   "outputs": [],
   "source": [
    "occupied_seats_for_each_direction(tt, 3, 4)"
   ]
  },
  {
   "cell_type": "code",
   "execution_count": null,
   "metadata": {},
   "outputs": [],
   "source": [
    "def occupied_seat_in_direction(arr, x, y, x_dir, y_dir):\n",
    "    elem = None\n",
    "    x = x_dir+x\n",
    "    y = y_dir+y\n",
    "    while 0<=y<len(arr) and 0<=x<len(arr[0]):\n",
    "        elem = arr[y][x]\n",
    "        if elem != \".\":\n",
    "            break\n",
    "        x = x_dir+x\n",
    "        y = y_dir+y\n",
    "    return int(elem == \"#\")"
   ]
  },
  {
   "cell_type": "code",
   "execution_count": null,
   "metadata": {},
   "outputs": [],
   "source": [
    "def occupied_seats_for_each_direction(arr, x, y):\n",
    "    count = 0\n",
    "    for row in range(-1, 2):\n",
    "        for col in range(-1, 2):\n",
    "            if not (row==0 and col==0):\n",
    "                count += occupied_seat_in_direction(arr, x, y, col, row)\n",
    "    return count"
   ]
  },
  {
   "cell_type": "code",
   "execution_count": null,
   "metadata": {},
   "outputs": [],
   "source": [
    "def new_game_state(arr):\n",
    "    new_state = copy.deepcopy(arr)\n",
    "    for y in range(len(arr)):\n",
    "        for x in range(len(arr[0])):\n",
    "            seats_around = occupied_seats_for_each_direction(arr, x, y)\n",
    "            if arr[y][x] == \"L\" and seats_around == 0:\n",
    "                new_state[y][x] = \"#\"\n",
    "            if arr[y][x] == \"#\" and seats_around >= 5:\n",
    "                new_state[y][x] = \"L\"\n",
    "    return new_state"
   ]
  },
  {
   "cell_type": "code",
   "execution_count": null,
   "metadata": {},
   "outputs": [],
   "source": [
    "play(test)"
   ]
  },
  {
   "cell_type": "code",
   "execution_count": null,
   "metadata": {},
   "outputs": [],
   "source": [
    "play(lines)"
   ]
  },
  {
   "cell_type": "markdown",
   "metadata": {},
   "source": [
    "# Day 12"
   ]
  },
  {
   "cell_type": "code",
   "execution_count": null,
   "metadata": {},
   "outputs": [],
   "source": [
    "test_string = \"\"\"F10\n",
    "N3\n",
    "F7\n",
    "R90\n",
    "F11\"\"\"\n",
    "test = [re.findall(\"([NSEWLRF])([0-9]+)\", string)[0] for string in test_string.split(\"\\n\")]"
   ]
  },
  {
   "cell_type": "code",
   "execution_count": null,
   "metadata": {},
   "outputs": [],
   "source": [
    "with open('input12.txt') as f:\n",
    "    lines_str = f.read().splitlines()\n",
    "    lines = [re.findall(\"([NSEWLRF])([0-9]+)\", string)[0] for string in lines_str]"
   ]
  },
  {
   "cell_type": "code",
   "execution_count": null,
   "metadata": {},
   "outputs": [],
   "source": [
    "ROTATIONS = {\n",
    "    90: 1,\n",
    "    180: 2,\n",
    "    270: 3,\n",
    "    360: 0\n",
    "}\n",
    "\n",
    "DIRECTIONS_MAP = {\n",
    "    \"N\": 0,\n",
    "    \"E\": 1,\n",
    "    \"S\": 2,\n",
    "    \"W\": 3\n",
    "}\n",
    "\n",
    "TURN = {\n",
    "    \"R\": 1,\n",
    "    \"L\": -1\n",
    "}"
   ]
  },
  {
   "cell_type": "markdown",
   "metadata": {},
   "source": [
    "## Part 1"
   ]
  },
  {
   "cell_type": "code",
   "execution_count": null,
   "metadata": {},
   "outputs": [],
   "source": [
    "# North, East, South, West\n",
    "# 0,     1,    2,     3\n",
    "[0, 0, 0, 0]\n",
    "\n",
    "curr = 1\n",
    "\n",
    "[0, 10, 0, 0]\n",
    "[3, 10, 0, 0]\n",
    "[3, 17, 0, 0]\n",
    "curr = turn[rl] * rotations[rot] % len(directions)\n",
    "[3, 17, 11, 0]"
   ]
  },
  {
   "cell_type": "code",
   "execution_count": null,
   "metadata": {},
   "outputs": [],
   "source": [
    "def navigate_ship(route):\n",
    "    # North, East, South, West\n",
    "    # 0,     1,    2,     3\n",
    "    position = [0, 0, 0, 0]\n",
    "    direction = 1 # East\n",
    "    for command, value in route:\n",
    "        if command in TURN:\n",
    "            direction += TURN[command] * ROTATIONS[int(value)]\n",
    "            direction %= len(position)\n",
    "        elif command in DIRECTIONS_MAP:\n",
    "            position[DIRECTIONS_MAP[command]] += int(value)\n",
    "        else:\n",
    "            position[direction] += int(value)\n",
    "    return abs(position[0]-position[2]) + abs(position[1]-position[3])"
   ]
  },
  {
   "cell_type": "code",
   "execution_count": null,
   "metadata": {},
   "outputs": [],
   "source": [
    "navigate_ship(test)"
   ]
  },
  {
   "cell_type": "code",
   "execution_count": null,
   "metadata": {},
   "outputs": [],
   "source": [
    "navigate_ship(lines)"
   ]
  },
  {
   "cell_type": "markdown",
   "metadata": {},
   "source": [
    "## Part 2"
   ]
  },
  {
   "cell_type": "code",
   "execution_count": null,
   "metadata": {},
   "outputs": [],
   "source": [
    "# F10 moves the ship to the waypoint 10 times (a total of 100 units east and 10 units north), leaving the ship at east 100, north 10. The waypoint stays 10 units east and 1 unit north of the ship.\n",
    "# N3 moves the waypoint 3 units north to 10 units east and 4 units north of the ship. The ship remains at east 100, north 10.\n",
    "# F7 moves the ship to the waypoint 7 times (a total of 70 units east and 28 units north), leaving the ship at east 170, north 38. The waypoint stays 10 units east and 4 units north of the ship.\n",
    "# R90 rotates the waypoint around the ship clockwise 90 degrees, moving it to 4 units east and 10 units south of the ship. The ship remains at east 170, north 38.\n",
    "# F11 moves the ship to the waypoint 11 times (a total of 44 units east and 110 units south), leaving the ship at east 214, south 72. The waypoint stays 4 units east and 10 units south of the ship."
   ]
  },
  {
   "cell_type": "code",
   "execution_count": null,
   "metadata": {},
   "outputs": [],
   "source": [
    "# North, East, South, West\n",
    "# 0,     1,    2,     3\n",
    "[0, 0, 0, 0]\n",
    "\n",
    "# Waypoint\n",
    "[1, 10, 0, 0]\n",
    "[4, 10, 0, 0]\n",
    "[0, 4, 10, 0]\n",
    "\n",
    "curr = 1\n",
    "\n",
    "[0, 0, 0, 0]\n",
    "# 10x waypoint\n",
    "[10, 100, 0, 0]\n",
    "[38, 170, 0, 0]\n",
    "[38, 214, 110, 0]"
   ]
  },
  {
   "cell_type": "code",
   "execution_count": null,
   "metadata": {},
   "outputs": [],
   "source": [
    "def shift_array(arr, shift):\n",
    "    neg = shift < 0\n",
    "    for i in range(abs(shift)):\n",
    "        if neg:\n",
    "            arr = arr + [arr.pop(0)]\n",
    "        else:    \n",
    "            arr = [arr.pop()] + arr\n",
    "    return arr"
   ]
  },
  {
   "cell_type": "code",
   "execution_count": null,
   "metadata": {},
   "outputs": [],
   "source": [
    "def navigate_ship_waypoint(route):\n",
    "    # North, East, South, West\n",
    "    # 0,     1,    2,     3\n",
    "    position = [0, 0, 0, 0]\n",
    "    waypoint = [1, 10, 0, 0]\n",
    "    for command, value in route:\n",
    "        if command in TURN:\n",
    "            waypoint = shift_array(waypoint, TURN[command] * ROTATIONS[int(value)])\n",
    "        elif command in DIRECTIONS_MAP:\n",
    "            waypoint[DIRECTIONS_MAP[command]] += int(value)\n",
    "        else:\n",
    "            position = [position[i] + (int(value) * waypoint[i]) for i in range(len(waypoint))]\n",
    "    return abs(position[0]-position[2]) + abs(position[1]-position[3])"
   ]
  },
  {
   "cell_type": "code",
   "execution_count": null,
   "metadata": {},
   "outputs": [],
   "source": [
    "navigate_ship_waypoint(test)"
   ]
  },
  {
   "cell_type": "code",
   "execution_count": null,
   "metadata": {},
   "outputs": [],
   "source": [
    "navigate_ship_waypoint(lines)"
   ]
  },
  {
   "cell_type": "markdown",
   "metadata": {},
   "source": [
    "# Day 13"
   ]
  },
  {
   "cell_type": "code",
   "execution_count": 64,
   "metadata": {},
   "outputs": [],
   "source": [
    "test_string = \"\"\"939\n",
    "7,13,x,x,59,x,31,19\"\"\""
   ]
  },
  {
   "cell_type": "code",
   "execution_count": 72,
   "metadata": {},
   "outputs": [],
   "source": [
    "def read_bus_schedule(schedule):\n",
    "    earliest_arrival = int(schedule.split(\"\\n\")[0])\n",
    "    bus_schedule = [(int(bus_id), i) for i, bus_id in enumerate(schedule.split(\"\\n\")[1].split(\",\")) if bus_id != \"x\"]\n",
    "    return earliest_arrival, bus_schedule"
   ]
  },
  {
   "cell_type": "code",
   "execution_count": 73,
   "metadata": {},
   "outputs": [],
   "source": [
    "test_arrival, test_bus_schedule = read_bus_schedule(test_string)"
   ]
  },
  {
   "cell_type": "code",
   "execution_count": 74,
   "metadata": {},
   "outputs": [],
   "source": [
    "with open('input13.txt') as f:\n",
    "    lines_str = f.read()\n",
    "    arrival, bus_schedule = read_bus_schedule(lines_str)"
   ]
  },
  {
   "cell_type": "markdown",
   "metadata": {},
   "source": [
    "## Part 1"
   ]
  },
  {
   "cell_type": "code",
   "execution_count": 80,
   "metadata": {},
   "outputs": [],
   "source": [
    "def find_earliest_bus(earliest_arrival, bus_schedule):\n",
    "    i = 0\n",
    "    earliest_bus = None\n",
    "    while i < min([bus_id for bus_id, i in bus_schedule]):\n",
    "        for bus_id in bus_schedule:\n",
    "            if (earliest_arrival + i) % bus_id[0] == 0:\n",
    "                earliest_bus = bus_id[0]\n",
    "                break\n",
    "        if earliest_bus:\n",
    "            break\n",
    "        i += 1\n",
    "    return i * earliest_bus"
   ]
  },
  {
   "cell_type": "code",
   "execution_count": 81,
   "metadata": {},
   "outputs": [
    {
     "data": {
      "text/plain": [
       "295"
      ]
     },
     "execution_count": 81,
     "metadata": {},
     "output_type": "execute_result"
    }
   ],
   "source": [
    "find_earliest_bus(test_arrival, test_bus_schedule)"
   ]
  },
  {
   "cell_type": "code",
   "execution_count": 82,
   "metadata": {},
   "outputs": [
    {
     "data": {
      "text/plain": [
       "6559"
      ]
     },
     "execution_count": 82,
     "metadata": {},
     "output_type": "execute_result"
    }
   ],
   "source": [
    "find_earliest_bus(arrival, bus_schedule)"
   ]
  },
  {
   "cell_type": "markdown",
   "metadata": {},
   "source": [
    "## Part 2"
   ]
  },
  {
   "cell_type": "code",
   "execution_count": 93,
   "metadata": {},
   "outputs": [],
   "source": [
    "def find_subsequent_departures(bus_schedule, starting_time=100000000000000):\n",
    "    # would need to check whether first elem is not 0\n",
    "    first_bus = bus_schedule[0][0]\n",
    "    # get time that fulfills time % first_bus == 0\n",
    "    jump = first_bus\n",
    "    time = starting_time + (first_bus - (starting_time % first_bus))\n",
    "    for bus_id in bus_schedule[1:]:\n",
    "        while (time + bus_id[1]) % bus_id[0] != 0:\n",
    "            time += jump\n",
    "        jump *= bus_id[0]\n",
    "    return time"
   ]
  },
  {
   "cell_type": "code",
   "execution_count": 94,
   "metadata": {},
   "outputs": [
    {
     "data": {
      "text/plain": [
       "1068781"
      ]
     },
     "execution_count": 94,
     "metadata": {},
     "output_type": "execute_result"
    }
   ],
   "source": [
    "find_subsequent_departures(test_bus_schedule, starting_time=1000000)"
   ]
  },
  {
   "cell_type": "code",
   "execution_count": 95,
   "metadata": {},
   "outputs": [
    {
     "data": {
      "text/plain": [
       "626670513163231"
      ]
     },
     "execution_count": 95,
     "metadata": {},
     "output_type": "execute_result"
    }
   ],
   "source": [
    "find_subsequent_departures(bus_schedule)"
   ]
  },
  {
   "cell_type": "markdown",
   "metadata": {},
   "source": [
    "# Day 14"
   ]
  },
  {
   "cell_type": "code",
   "execution_count": 109,
   "metadata": {},
   "outputs": [],
   "source": [
    "test_string = \"\"\"mask = XXXXXXXXXXXXXXXXXXXXXXXXXXXXX1XXXX0X\n",
    "mem[8] = 11\n",
    "mem[7] = 101\n",
    "mem[8] = 0\"\"\"\n",
    "test = test_string.split(\"\\n\")"
   ]
  },
  {
   "cell_type": "code",
   "execution_count": 215,
   "metadata": {},
   "outputs": [],
   "source": [
    "test_string2 = \"\"\"mask = 000000000000000000000000000000X1001X\n",
    "mem[42] = 100\n",
    "mask = 00000000000000000000000000000000X0XX\n",
    "mem[26] = 1\"\"\"\n",
    "test2 = test_string2.split(\"\\n\")"
   ]
  },
  {
   "cell_type": "code",
   "execution_count": 194,
   "metadata": {},
   "outputs": [],
   "source": [
    "with open('input14.txt') as f:\n",
    "    lines = f.read().splitlines()"
   ]
  },
  {
   "cell_type": "code",
   "execution_count": 186,
   "metadata": {},
   "outputs": [],
   "source": [
    "def decimal_to_binary(num, padding=0, system=2):\n",
    "    current_bit = math.floor(math.log2(num)) if num >= 1 else 0\n",
    "    bit_string = \"\"\n",
    "    while current_bit >= 0:\n",
    "        if system**current_bit <= num:\n",
    "            num -= system**current_bit\n",
    "            bit_string += \"1\"\n",
    "        else:\n",
    "            bit_string += \"0\"\n",
    "        current_bit -= 1\n",
    "    return (padding-len(bit_string)) * \"0\" + bit_string"
   ]
  },
  {
   "cell_type": "code",
   "execution_count": 141,
   "metadata": {},
   "outputs": [],
   "source": [
    "def binary_to_decimal(binary_str, pos=0, system=2):\n",
    "    if binary_num == \"\":\n",
    "        return 0\n",
    "    pos_value = system ** pos if binary_num[-1] == \"1\" else 0\n",
    "    return pos_value + binary_to_decimal(binary_num[:-1], pos+1)"
   ]
  },
  {
   "cell_type": "code",
   "execution_count": 156,
   "metadata": {},
   "outputs": [],
   "source": [
    "def masked_binary(binary_str, mask):\n",
    "    assert len(binary_str) == len(mask)\n",
    "    if not binary_str:\n",
    "        return \"\"\n",
    "    return masked_binary(binary_str[:-1], mask[:-1]) + (binary_str[-1] if mask[-1] == \"X\" else mask[-1])"
   ]
  },
  {
   "cell_type": "markdown",
   "metadata": {},
   "source": [
    "## Part 1"
   ]
  },
  {
   "cell_type": "code",
   "execution_count": 171,
   "metadata": {},
   "outputs": [],
   "source": [
    "def parse_mask(mask_str):\n",
    "    return re.findall(\"mask = (.*)\", mask_str)[0]\n",
    "\n",
    "def parse_mem(mem_str):\n",
    "    return re.findall(\"mem\\[([0-9]+)\\] = (.*)\", mem_str)[0]"
   ]
  },
  {
   "cell_type": "code",
   "execution_count": 192,
   "metadata": {},
   "outputs": [],
   "source": [
    "def start_docking(commands, bit_length=36):\n",
    "    mask = \"X\" * bit_length \n",
    "    memory = {}\n",
    "    for c in commands:\n",
    "        if \"mask\" in c:\n",
    "            mask = parse_mask(c)\n",
    "        if \"mem\" in c:\n",
    "            location, value = parse_mem(c)\n",
    "            binary_value = decimal_to_binary(int(value), padding=bit_length)\n",
    "            memory[location] = binary_to_decimal(masked_binary(binary_value, mask))\n",
    "    return sum(memory.values())"
   ]
  },
  {
   "cell_type": "code",
   "execution_count": 193,
   "metadata": {},
   "outputs": [
    {
     "data": {
      "text/plain": [
       "165"
      ]
     },
     "execution_count": 193,
     "metadata": {},
     "output_type": "execute_result"
    }
   ],
   "source": [
    "start_docking(test)"
   ]
  },
  {
   "cell_type": "code",
   "execution_count": 195,
   "metadata": {},
   "outputs": [
    {
     "data": {
      "text/plain": [
       "6513443633260"
      ]
     },
     "execution_count": 195,
     "metadata": {},
     "output_type": "execute_result"
    }
   ],
   "source": [
    "start_docking(lines)"
   ]
  },
  {
   "cell_type": "markdown",
   "metadata": {},
   "source": [
    "## Part 2"
   ]
  },
  {
   "cell_type": "code",
   "execution_count": 200,
   "metadata": {},
   "outputs": [],
   "source": [
    "def masked_binary2(binary_str, mask, acc=\"\"):\n",
    "    assert len(binary_str) == len(mask)\n",
    "    if not binary_str:\n",
    "        return [acc]\n",
    "    combinations = []\n",
    "    if mask[-1] == \"0\":\n",
    "        combinations += masked_binary2(binary_str[:-1], mask[:-1], binary_str[-1]+acc)\n",
    "    if mask[-1] == \"1\":\n",
    "        combinations += masked_binary2(binary_str[:-1], mask[:-1], mask[-1]+acc)\n",
    "    if mask[-1] == \"X\":\n",
    "        combinations += masked_binary2(binary_str[:-1], mask[:-1], \"0\"+acc)\n",
    "        combinations += masked_binary2(binary_str[:-1], mask[:-1], \"1\"+acc)\n",
    "    return combinations"
   ]
  },
  {
   "cell_type": "code",
   "execution_count": 223,
   "metadata": {},
   "outputs": [],
   "source": [
    "def start_docking2(commands, bit_length=36):\n",
    "    mask = \"0\" * bit_length \n",
    "    memory = {}\n",
    "    for c in commands:\n",
    "        if \"mask\" in c:\n",
    "            mask = parse_mask(c)\n",
    "        if \"mem\" in c:\n",
    "            location, value = parse_mem(c)\n",
    "            binary_location = decimal_to_binary(int(location), padding=bit_length)\n",
    "            for bin_loc in masked_binary2(binary_location, mask):\n",
    "                memory[bin_loc] = int(value)\n",
    "    return sum(memory.values())"
   ]
  },
  {
   "cell_type": "code",
   "execution_count": 224,
   "metadata": {},
   "outputs": [
    {
     "data": {
      "text/plain": [
       "208"
      ]
     },
     "execution_count": 224,
     "metadata": {},
     "output_type": "execute_result"
    }
   ],
   "source": [
    "start_docking2(test2)"
   ]
  },
  {
   "cell_type": "code",
   "execution_count": 225,
   "metadata": {},
   "outputs": [
    {
     "data": {
      "text/plain": [
       "3442819875191"
      ]
     },
     "execution_count": 225,
     "metadata": {},
     "output_type": "execute_result"
    }
   ],
   "source": [
    "start_docking2(lines)"
   ]
  },
  {
   "cell_type": "markdown",
   "metadata": {},
   "source": [
    "# Day 15"
   ]
  },
  {
   "cell_type": "code",
   "execution_count": 211,
   "metadata": {},
   "outputs": [],
   "source": [
    "tests = [\n",
    "    ([0,3,6], 2020, 436),\n",
    "    ([1,3,2], 2020, 1),\n",
    "    ([2,1,3], 2020, 10),\n",
    "    ([1,2,3], 2020, 27),\n",
    "    ([2,3,1], 2020, 78),\n",
    "    ([3,2,1], 2020, 438),\n",
    "    ([3,1,2], 2020, 1836),\n",
    "        ]"
   ]
  },
  {
   "cell_type": "code",
   "execution_count": 215,
   "metadata": {},
   "outputs": [],
   "source": [
    "tests2 = [\n",
    "    ([0,3,6], 30000000, 175594),\n",
    "    ([1,3,2], 30000000, 2578),\n",
    "    ([2,1,3], 30000000, 3544142),\n",
    "    ([1,2,3], 30000000, 261214),\n",
    "    ([2,3,1], 30000000, 6895259),\n",
    "    ([3,2,1], 30000000, 18),\n",
    "    ([3,1,2], 30000000, 362),\n",
    "        ]"
   ]
  },
  {
   "cell_type": "code",
   "execution_count": 218,
   "metadata": {},
   "outputs": [],
   "source": [
    "lines = ([12,20,0,6,1,17,7], 2020)\n",
    "lines2 = ([12,20,0,6,1,17,7], 30000000)"
   ]
  },
  {
   "cell_type": "code",
   "execution_count": 230,
   "metadata": {},
   "outputs": [],
   "source": [
    "def continue_elve_game(starting_numbers):\n",
    "    memory = {num: [i+1] for i, num in enumerate(starting_numbers[:-1])}\n",
    "    curr = starting_numbers[-1]\n",
    "    i = len(starting_numbers)\n",
    "    while True:\n",
    "        last_spoken = memory.get(curr, [])\n",
    "        if not last_spoken:\n",
    "            next_num = 0\n",
    "        else:\n",
    "            next_num = i - last_spoken[-1]\n",
    "        memory[curr] = last_spoken[-1:]+[i]\n",
    "        yield curr\n",
    "        curr = next_num\n",
    "        i += 1        "
   ]
  },
  {
   "cell_type": "markdown",
   "metadata": {},
   "source": [
    "## Part 1"
   ]
  },
  {
   "cell_type": "code",
   "execution_count": 231,
   "metadata": {},
   "outputs": [],
   "source": [
    "for t in tests:\n",
    "    assert next((x for i, x in enumerate(continue_elve_game(t[0])) if i==(t[1]-len(t[0]))), None) == t[2]"
   ]
  },
  {
   "cell_type": "code",
   "execution_count": 232,
   "metadata": {},
   "outputs": [
    {
     "data": {
      "text/plain": [
       "866"
      ]
     },
     "execution_count": 232,
     "metadata": {},
     "output_type": "execute_result"
    }
   ],
   "source": [
    "next((x for i, x in enumerate(continue_elve_game(lines[0])) if i==(lines[1]-len(lines[0]))), None)"
   ]
  },
  {
   "cell_type": "markdown",
   "metadata": {},
   "source": [
    "## Part 2"
   ]
  },
  {
   "cell_type": "code",
   "execution_count": 234,
   "metadata": {},
   "outputs": [],
   "source": [
    "for t in tests2:\n",
    "    assert next((x for i, x in enumerate(continue_elve_game(t[0])) if i==(t[1]-len(t[0]))), None) == t[2]"
   ]
  },
  {
   "cell_type": "code",
   "execution_count": 233,
   "metadata": {},
   "outputs": [
    {
     "data": {
      "text/plain": [
       "1437692"
      ]
     },
     "execution_count": 233,
     "metadata": {},
     "output_type": "execute_result"
    }
   ],
   "source": [
    "next((x for i, x in enumerate(continue_elve_game(lines2[0])) if i==(lines2[1]-len(lines2[0]))), None)"
   ]
  },
  {
   "cell_type": "markdown",
   "metadata": {},
   "source": [
    "# Day 16"
   ]
  },
  {
   "cell_type": "code",
   "execution_count": 249,
   "metadata": {},
   "outputs": [],
   "source": [
    "test_string = \"\"\"class: 1-3 or 5-7\n",
    "row: 6-11 or 33-44\n",
    "seat: 13-40 or 45-50\n",
    "\n",
    "your ticket:\n",
    "7,1,14\n",
    "\n",
    "nearby tickets:\n",
    "7,3,47\n",
    "40,4,50\n",
    "55,2,20\n",
    "38,6,12\"\"\""
   ]
  },
  {
   "cell_type": "code",
   "execution_count": 341,
   "metadata": {},
   "outputs": [],
   "source": [
    "test_string2 = \"\"\"class: 0-1 or 4-19\n",
    "row: 0-5 or 8-19\n",
    "seat: 0-13 or 16-19\n",
    "\n",
    "your ticket:\n",
    "11,12,13\n",
    "\n",
    "nearby tickets:\n",
    "3,9,18\n",
    "15,1,5\n",
    "5,14,9\"\"\""
   ]
  },
  {
   "cell_type": "code",
   "execution_count": 333,
   "metadata": {},
   "outputs": [],
   "source": [
    "with open('input16.txt') as f:\n",
    "    lines_str = f.read()"
   ]
  },
  {
   "cell_type": "code",
   "execution_count": 406,
   "metadata": {},
   "outputs": [],
   "source": [
    "def read_ticket_input(ticket_input):\n",
    "    ranges, your_ticket, nearby_tickets = ticket_input.split(\"\\n\\n\")\n",
    "    ranges_raw = [re.findall(\"(^.*):.* ([0-9]+-[0-9]+) .* ([0-9]+-[0-9]+)\", r)[0] for r in ranges.split(\"\\n\")]\n",
    "    range_mapping = {}\n",
    "    for range_raw in ranges_raw:\n",
    "        for r in range_raw[1:]:\n",
    "            range_mapping[(int(r.split(\"-\")[0]), int(r.split(\"-\")[1]))] = range_raw[0]\n",
    "    ranges = sorted(range_mapping.keys())\n",
    "    \n",
    "    your_ticket = [int(num) for num in your_ticket.split(\"\\n\")[1].split(\",\")]\n",
    "    nearby_tickets = [[int(num) for num in t.split(\",\")] for t in [tickets for tickets in nearby_tickets.split(\"\\n\")[1:]]] \n",
    "    \n",
    "    return ranges, your_ticket, nearby_tickets, range_mapping"
   ]
  },
  {
   "cell_type": "code",
   "execution_count": 407,
   "metadata": {},
   "outputs": [],
   "source": [
    "def ranges_bin_search(elem, form):\n",
    "    l = 0\n",
    "    r = len(form)-1\n",
    "    while l <= r:\n",
    "        mid = (l+r) // 2\n",
    "        if form[mid][0] <= elem:\n",
    "            if form[mid][1] >= elem:\n",
    "                return mid\n",
    "            else:\n",
    "                l = mid + 1\n",
    "        else:\n",
    "            r = mid - 1\n",
    "    return -1"
   ]
  },
  {
   "cell_type": "code",
   "execution_count": 419,
   "metadata": {},
   "outputs": [],
   "source": [
    "def bf_search(elem, form):\n",
    "    indices = []\n",
    "    i = 0\n",
    "    while i < len(form):\n",
    "        if form[i][0] <= elem and form[i][1] >= elem:\n",
    "            indices.append(i)\n",
    "        if form[i][0] > elem:\n",
    "            break\n",
    "        i += 1\n",
    "    return indices"
   ]
  },
  {
   "cell_type": "code",
   "execution_count": 523,
   "metadata": {},
   "outputs": [],
   "source": [
    "def get_valid(range_mapping):\n",
    "    valid = {}\n",
    "    for r, area in range_mapping.items():\n",
    "        v = valid.get(area, None)\n",
    "        if v:\n",
    "            v.update(set(range(r[0], r[1]+1)))\n",
    "        else:\n",
    "            v = set(range(r[0], r[1]+1))\n",
    "        valid[area] = v\n",
    "    return valid"
   ]
  },
  {
   "cell_type": "markdown",
   "metadata": {},
   "source": [
    "## Part 1"
   ]
  },
  {
   "cell_type": "code",
   "execution_count": 491,
   "metadata": {},
   "outputs": [],
   "source": [
    "def scanning_error_rate(ranges, tickets_list):\n",
    "    error_rate = 0\n",
    "    invalid_tickets = set()\n",
    "    for i, tickets in enumerate(tickets_list):\n",
    "        for ticket_no in tickets:\n",
    "            if ranges_bin_search(ticket_no, ranges) == -1:\n",
    "                error_rate += ticket_no\n",
    "                invalid_tickets.add(i)\n",
    "    valid_tickets = [ticket for i, ticket in enumerate(tickets_list) if i not in invalid_tickets]\n",
    "    return error_rate, valid_tickets "
   ]
  },
  {
   "cell_type": "code",
   "execution_count": 492,
   "metadata": {},
   "outputs": [],
   "source": [
    "ranges, your_ticket, nearby_tickets, _ = read_ticket_input(test_string)"
   ]
  },
  {
   "cell_type": "code",
   "execution_count": 496,
   "metadata": {},
   "outputs": [
    {
     "data": {
      "text/plain": [
       "71"
      ]
     },
     "execution_count": 496,
     "metadata": {},
     "output_type": "execute_result"
    }
   ],
   "source": [
    "err, _ = scanning_error_rate(ranges, nearby_tickets)\n",
    "err"
   ]
  },
  {
   "cell_type": "code",
   "execution_count": 574,
   "metadata": {},
   "outputs": [],
   "source": [
    "test_ranges, test_your_ticket, test_nearby_tickets, test_range_mapping = read_ticket_input(lines_str)\n",
    "test_valid = get_valid(test_range_mapping)"
   ]
  },
  {
   "cell_type": "code",
   "execution_count": 497,
   "metadata": {},
   "outputs": [
    {
     "data": {
      "text/plain": [
       "26941"
      ]
     },
     "execution_count": 497,
     "metadata": {},
     "output_type": "execute_result"
    }
   ],
   "source": [
    "test_err, _ = scanning_error_rate(test_ranges, test_nearby_tickets)\n",
    "test_err"
   ]
  },
  {
   "cell_type": "markdown",
   "metadata": {},
   "source": [
    "## Part 2"
   ]
  },
  {
   "cell_type": "code",
   "execution_count": 573,
   "metadata": {},
   "outputs": [],
   "source": [
    "ranges, your_ticket, nearby_tickets, range_mapping = read_ticket_input(test_string2)\n",
    "valid = get_valid(range_mapping)"
   ]
  },
  {
   "cell_type": "code",
   "execution_count": 576,
   "metadata": {},
   "outputs": [],
   "source": [
    "def ticket_mappings(ranges, tickets_list, your_ticket, range_mapping, valid, ticket_name_restriction=\"\"):\n",
    "    _, tickets_list = scanning_error_rate(ranges, tickets_list)\n",
    "    to_allocate = {area: set() for area in set(range_mapping.values())}\n",
    "    for i in range(len(your_ticket)):\n",
    "        possibles = set(valid.keys())\n",
    "        for tickets in tickets_list:\n",
    "            for p in set(valid.keys()):\n",
    "                if tickets[i] not in valid[p] and p in possibles:\n",
    "                    possibles.remove(p)\n",
    "        for p in possibles:\n",
    "            to_allocate[p].add(i)\n",
    "    \n",
    "    allocated = {}\n",
    "    while to_allocate:\n",
    "        for field in to_allocate:\n",
    "            if len(to_allocate[field]) == 1:\n",
    "                allocated[field] = to_allocate[field].pop()\n",
    "                to_allocate.pop(field)\n",
    "                for f in to_allocate: to_allocate[f].remove(allocated[field])\n",
    "                break\n",
    "\n",
    "    return reduce((lambda x, y: x * y), [your_ticket[index] for area, index in allocated.items() if ticket_name_restriction in area])"
   ]
  },
  {
   "cell_type": "code",
   "execution_count": 577,
   "metadata": {},
   "outputs": [
    {
     "data": {
      "text/plain": [
       "1716"
      ]
     },
     "execution_count": 577,
     "metadata": {},
     "output_type": "execute_result"
    }
   ],
   "source": [
    "ticket_mappings(ranges, nearby_tickets, your_ticket, range_mapping, valid)"
   ]
  },
  {
   "cell_type": "code",
   "execution_count": 578,
   "metadata": {},
   "outputs": [
    {
     "data": {
      "text/plain": [
       "634796407951"
      ]
     },
     "execution_count": 578,
     "metadata": {},
     "output_type": "execute_result"
    }
   ],
   "source": [
    "ticket_mappings(test_ranges, test_nearby_tickets, test_your_ticket, test_range_mapping, test_valid, ticket_name_restriction=\"departure\")"
   ]
  },
  {
   "cell_type": "markdown",
   "metadata": {},
   "source": [
    "# Day 17"
   ]
  },
  {
   "cell_type": "code",
   "execution_count": 810,
   "metadata": {},
   "outputs": [],
   "source": [
    "test_string = \"\"\".#.\n",
    "..#\n",
    "###\"\"\"\n",
    "test = [list(line) for line in test_string.split(\"\\n\")]"
   ]
  },
  {
   "cell_type": "code",
   "execution_count": 811,
   "metadata": {},
   "outputs": [],
   "source": [
    "with open('input17.txt') as f:\n",
    "    lines_str = f.read()\n",
    "    lines = [list(line) for line in lines_str.split(\"\\n\")]"
   ]
  },
  {
   "cell_type": "markdown",
   "metadata": {},
   "source": [
    "## Part 1"
   ]
  },
  {
   "cell_type": "code",
   "execution_count": 834,
   "metadata": {},
   "outputs": [],
   "source": [
    "def empty_3d_array(n_x, n_y, n_z):\n",
    "    return [[[\".\" for x in range(n_x)] for y in range(n_y)] for z in range(n_z)]"
   ]
  },
  {
   "cell_type": "code",
   "execution_count": 835,
   "metadata": {},
   "outputs": [],
   "source": [
    "def count_active(arr):\n",
    "    num_active = 0\n",
    "    for z in range(len(arr)):\n",
    "        for y in range(len(arr[z])):\n",
    "            for x in range(len(arr[z][y])):\n",
    "                if arr[z][y][x] == \"#\":\n",
    "                    num_active += 1\n",
    "    return num_active"
   ]
  },
  {
   "cell_type": "code",
   "execution_count": 836,
   "metadata": {},
   "outputs": [],
   "source": [
    "def active_neigbors(pos, arr):\n",
    "    dims = len(arr[0][0]), len(arr[0]), len(arr)\n",
    "    num_active = 0\n",
    "    is_active = False\n",
    "    for z in range(-1, 2):\n",
    "        if pos[2]+z >= 0 and pos[2]+z < dims[2]:\n",
    "            for y in range(-1, 2):\n",
    "                if pos[1]+y >= 0 and pos[1]+y < dims[1]:\n",
    "                    for x in range(-1, 2):\n",
    "                        if pos[0]+x >= 0 and pos[0]+x < dims[0]:\n",
    "                            if arr[pos[2]+z][pos[1]+y][pos[0]+x] == \"#\":\n",
    "                                if z == y == x == 0:\n",
    "                                    is_active = True\n",
    "                                else:\n",
    "                                    num_active += 1\n",
    "    return is_active, num_active"
   ]
  },
  {
   "cell_type": "code",
   "execution_count": 837,
   "metadata": {},
   "outputs": [],
   "source": [
    "def next_state(state):\n",
    "    z_dim, y_dim, x_dim = len(state), len(state[0]), len(state[0][0])\n",
    "    new_state = empty_3d_array(x_dim+2, y_dim+2, z_dim+2)\n",
    "    for z in range(len(new_state)):\n",
    "        for y in range(len(new_state[z])):\n",
    "            for x in range(len(new_state[z][y])):\n",
    "                is_active, active_n = active_neigbors((x-1, y-1, z-1), state)\n",
    "                if (is_active and active_n in {2,3}) or (not is_active and active_n == 3):\n",
    "                    new_state[z][y][x] = \"#\"\n",
    "    return new_state"
   ]
  },
  {
   "cell_type": "code",
   "execution_count": 838,
   "metadata": {},
   "outputs": [],
   "source": [
    "def run_n_times(state, n):\n",
    "    for i in range(n):\n",
    "        state = next_state(state)\n",
    "    return state"
   ]
  },
  {
   "cell_type": "code",
   "execution_count": 839,
   "metadata": {},
   "outputs": [
    {
     "data": {
      "text/plain": [
       "112"
      ]
     },
     "execution_count": 839,
     "metadata": {},
     "output_type": "execute_result"
    }
   ],
   "source": [
    "end_state = run_n_times([test], 6)\n",
    "count_active(end_state)"
   ]
  },
  {
   "cell_type": "code",
   "execution_count": 840,
   "metadata": {},
   "outputs": [
    {
     "data": {
      "text/plain": [
       "284"
      ]
     },
     "execution_count": 840,
     "metadata": {},
     "output_type": "execute_result"
    }
   ],
   "source": [
    "end_state = run_n_times([lines], 6)\n",
    "count_active(end_state)"
   ]
  },
  {
   "cell_type": "markdown",
   "metadata": {},
   "source": [
    "## Part 2"
   ]
  },
  {
   "cell_type": "code",
   "execution_count": 841,
   "metadata": {},
   "outputs": [],
   "source": [
    "def empty_4d_array(n_x, n_y, n_z, n_w):\n",
    "    return [[[[\".\" for x in range(n_x)] for y in range(n_y)] for z in range(n_z)] for w in range(n_w)]"
   ]
  },
  {
   "cell_type": "code",
   "execution_count": 842,
   "metadata": {},
   "outputs": [],
   "source": [
    "def count_active(arr):\n",
    "    num_active = 0\n",
    "    for w in range(len(arr)):\n",
    "        for z in range(len(arr[w])):\n",
    "            for y in range(len(arr[w][z])):\n",
    "                for x in range(len(arr[w][z][y])):\n",
    "                    if arr[w][z][y][x] == \"#\":\n",
    "                        num_active += 1\n",
    "    return num_active"
   ]
  },
  {
   "cell_type": "code",
   "execution_count": 843,
   "metadata": {},
   "outputs": [],
   "source": [
    "def active_neigbors(pos, arr):\n",
    "    dims = len(arr[0][0][0]), len(arr[0][0]), len(arr[0]), len(arr)\n",
    "    num_active = 0\n",
    "    is_active = False\n",
    "    for w in range(-1, 2):\n",
    "        if pos[3]+w >= 0 and pos[3]+w < dims[3]:\n",
    "            for z in range(-1, 2):\n",
    "                if pos[2]+z >= 0 and pos[2]+z < dims[2]:\n",
    "                    for y in range(-1, 2):\n",
    "                        if pos[1]+y >= 0 and pos[1]+y < dims[1]:\n",
    "                            for x in range(-1, 2):\n",
    "                                if pos[0]+x >= 0 and pos[0]+x < dims[0]:\n",
    "                                    if arr[pos[3]+w][pos[2]+z][pos[1]+y][pos[0]+x] == \"#\":\n",
    "                                        if w == z == y == x == 0:\n",
    "                                            is_active = True\n",
    "                                        else:\n",
    "                                            num_active += 1\n",
    "    return is_active, num_active"
   ]
  },
  {
   "cell_type": "code",
   "execution_count": 844,
   "metadata": {},
   "outputs": [],
   "source": [
    "def next_state(state):\n",
    "    w_dim, z_dim, y_dim, x_dim = len(state), len(state[0]), len(state[0][0]), len(state[0][0][0])\n",
    "    new_state = empty_4d_array(x_dim+2, y_dim+2, z_dim+2, w_dim+2)\n",
    "    for w in range(len(new_state)):\n",
    "        for z in range(len(new_state[w])):\n",
    "            for y in range(len(new_state[w][z])):\n",
    "                for x in range(len(new_state[w][z][y])):\n",
    "                    is_active, active_n = active_neigbors((x-1, y-1, z-1, w-1), state)\n",
    "                    if (is_active and active_n in {2,3}) or (not is_active and active_n == 3):\n",
    "                        new_state[w][z][y][x] = \"#\"\n",
    "    return new_state"
   ]
  },
  {
   "cell_type": "code",
   "execution_count": 845,
   "metadata": {},
   "outputs": [
    {
     "data": {
      "text/plain": [
       "848"
      ]
     },
     "execution_count": 845,
     "metadata": {},
     "output_type": "execute_result"
    }
   ],
   "source": [
    "end_state = run_n_times([[test]], 6)\n",
    "count_active(end_state)"
   ]
  },
  {
   "cell_type": "code",
   "execution_count": 846,
   "metadata": {},
   "outputs": [
    {
     "data": {
      "text/plain": [
       "2240"
      ]
     },
     "execution_count": 846,
     "metadata": {},
     "output_type": "execute_result"
    }
   ],
   "source": [
    "end_state = run_n_times([lines], 6)\n",
    "count_active(end_state)"
   ]
  },
  {
   "cell_type": "markdown",
   "metadata": {},
   "source": [
    "# Day 18"
   ]
  },
  {
   "cell_type": "code",
   "execution_count": 996,
   "metadata": {},
   "outputs": [],
   "source": [
    "test_string = \"\"\"1 + 2 * 3 + 4 * 5 + 6\n",
    "1 + (2 * 3) + (4 * (5 + 6))\n",
    "2 * 3 + (4 * 5)\n",
    "5 + (8 * 3 + 9 + 3 * 4 * 3)\n",
    "5 * 9 * (7 * 3 * 3 + 9 * 3 + (8 + 6 * 4))\n",
    "((2 + 4 * 9) * (6 + 9 * 8 + 6) + 6) + 2 + 4 * 2\"\"\"\n",
    "test = [string.replace(\" \", \"\") for string in test_string.split(\"\\n\")]"
   ]
  },
  {
   "cell_type": "code",
   "execution_count": 990,
   "metadata": {},
   "outputs": [],
   "source": [
    "with open('input18.txt') as f:\n",
    "    lines_str = f.read()\n",
    "    lines = [line.replace(\" \", \"\") for line in lines_str.split(\"\\n\")]"
   ]
  },
  {
   "cell_type": "code",
   "execution_count": 978,
   "metadata": {},
   "outputs": [],
   "source": [
    "ops = { \"+\": operator.add, \"*\": operator.mul }"
   ]
  },
  {
   "cell_type": "code",
   "execution_count": 905,
   "metadata": {},
   "outputs": [],
   "source": [
    "def find_closing_parenthesis(string):\n",
    "    count = 0\n",
    "    i = 0\n",
    "    while i < len(string):\n",
    "        if string[i] == \"(\":\n",
    "            count += 1\n",
    "        if string[i] == \")\":\n",
    "            count -= 1\n",
    "        if count == 0:\n",
    "            break\n",
    "        i += 1\n",
    "    return i+1"
   ]
  },
  {
   "cell_type": "code",
   "execution_count": 951,
   "metadata": {},
   "outputs": [],
   "source": [
    "def expr_read_next(expr):\n",
    "    if expr[0] == \"(\":\n",
    "        closing_p = find_closing_parenthesis(expr)\n",
    "        return expr[0:closing_p], closing_p\n",
    "    elif expr[0] in {\"+\", \"*\"}:\n",
    "        return expr[0], 1\n",
    "    else:\n",
    "        num = re.search(\"^[0-9]+\", expr)\n",
    "        return num.group(0), num.span()[1]"
   ]
  },
  {
   "cell_type": "code",
   "execution_count": 1021,
   "metadata": {},
   "outputs": [],
   "source": [
    "def expr_iter(expr):\n",
    "    i = 0\n",
    "    if expr[0] not in {\"*\", \"+\"}:\n",
    "        expr = \"+\"+expr\n",
    "    while i < len(expr):\n",
    "        op1, end1 = expr_read_next(expr[i:])\n",
    "        op2, end2 = expr_read_next(expr[i+end1:])\n",
    "        i += end2+1\n",
    "        yield op1, op2"
   ]
  },
  {
   "cell_type": "code",
   "execution_count": 979,
   "metadata": {},
   "outputs": [],
   "source": [
    "def calc_sum(value, expr):\n",
    "    operator = expr[0]\n",
    "    operand = expr[1]\n",
    "    if operand[0] == \"(\":\n",
    "        return ops[operator](value, reduce(lambda x, y: calc_sum(x, y), expr_iter(operand[1:-1]), 0))\n",
    "    else:\n",
    "        return ops[operator](value, int(operand))"
   ]
  },
  {
   "cell_type": "markdown",
   "metadata": {},
   "source": [
    "## Part 1"
   ]
  },
  {
   "cell_type": "code",
   "execution_count": 974,
   "metadata": {},
   "outputs": [],
   "source": [
    "# 1 + 2 * 3 + 4 * 5 + 6 becomes 71\n",
    "# 1 + (2 * 3) + (4 * (5 + 6)) becomes 51\n",
    "# 2 * 3 + (4 * 5) becomes 26.\n",
    "# 5 + (8 * 3 + 9 + 3 * 4 * 3) becomes 437.\n",
    "# 5 * 9 * (7 * 3 * 3 + 9 * 3 + (8 + 6 * 4)) becomes 12240.\n",
    "# ((2 + 4 * 9) * (6 + 9 * 8 + 6) + 6) + 2 + 4 * 2 becomes 13632."
   ]
  },
  {
   "cell_type": "code",
   "execution_count": 993,
   "metadata": {},
   "outputs": [
    {
     "data": {
      "text/plain": [
       "[71, 51, 26, 437, 12240, 13632]"
      ]
     },
     "execution_count": 993,
     "metadata": {},
     "output_type": "execute_result"
    }
   ],
   "source": [
    "[reduce(lambda x, y: calc_sum(x, y), expr_iter(t), 0) for t in test]"
   ]
  },
  {
   "cell_type": "code",
   "execution_count": 991,
   "metadata": {},
   "outputs": [
    {
     "data": {
      "text/plain": [
       "280014646144"
      ]
     },
     "execution_count": 991,
     "metadata": {},
     "output_type": "execute_result"
    }
   ],
   "source": [
    "sum([reduce(lambda x, y: calc_sum(x, y), expr_iter(line), 0) for line in lines])"
   ]
  },
  {
   "cell_type": "markdown",
   "metadata": {},
   "source": [
    "## Part 2"
   ]
  },
  {
   "cell_type": "code",
   "execution_count": 992,
   "metadata": {},
   "outputs": [],
   "source": [
    "# 1 + 2 * 3 + 4 * 5 + 6 becomes 231\n",
    "# 1 + (2 * 3) + (4 * (5 + 6)) still becomes 51.\n",
    "# 2 * 3 + (4 * 5) becomes 46.\n",
    "# 5 + (8 * 3 + 9 + 3 * 4 * 3) becomes 1445.\n",
    "# 5 * 9 * (7 * 3 * 3 + 9 * 3 + (8 + 6 * 4)) becomes 669060.\n",
    "# ((2 + 4 * 9) * (6 + 9 * 8 + 6) + 6) + 2 + 4 * 2 becomes 23340."
   ]
  },
  {
   "cell_type": "code",
   "execution_count": 1077,
   "metadata": {},
   "outputs": [],
   "source": [
    "def calc_advanced_sum(expr):\n",
    "    if not expr:\n",
    "        return 1\n",
    "    sum_ = 0\n",
    "    i = 0\n",
    "    for ops in expr_iter(expr):\n",
    "        if ops[0] == \"+\":\n",
    "            if ops[1][0] == \"(\":\n",
    "                sum_ += calc_advanced_sum(ops[1][1:-1])\n",
    "            else:\n",
    "                sum_ += int(ops[1])\n",
    "        else:\n",
    "            return sum_ * calc_advanced_sum(expr[i:])\n",
    "        i += len(ops[1]) + len(ops[0])\n",
    "    return sum_"
   ]
  },
  {
   "cell_type": "code",
   "execution_count": 1078,
   "metadata": {},
   "outputs": [
    {
     "data": {
      "text/plain": [
       "[231, 51, 46, 1445, 669060, 23340]"
      ]
     },
     "execution_count": 1078,
     "metadata": {},
     "output_type": "execute_result"
    }
   ],
   "source": [
    "[calc_advanced_sum(t) for t in test]"
   ]
  },
  {
   "cell_type": "code",
   "execution_count": 1079,
   "metadata": {},
   "outputs": [
    {
     "data": {
      "text/plain": [
       "9966990988262"
      ]
     },
     "execution_count": 1079,
     "metadata": {},
     "output_type": "execute_result"
    }
   ],
   "source": [
    "sum([calc_advanced_sum(line) for line in lines])"
   ]
  },
  {
   "cell_type": "markdown",
   "metadata": {},
   "source": [
    "# Day 19"
   ]
  },
  {
   "cell_type": "code",
   "execution_count": 1140,
   "metadata": {},
   "outputs": [],
   "source": [
    "test_string = \"\"\"0: 4 1 5\n",
    "1: 2 3 | 3 2\n",
    "2: 4 4 | 5 5\n",
    "3: 4 5 | 5 4\n",
    "4: \"a\"\n",
    "5: \"b\"\n",
    "\n",
    "ababbb\n",
    "bababa\n",
    "abbbab\n",
    "aaabbb\n",
    "aaaabbb\"\"\"\n",
    "\n",
    "test_rules = {rule.split(\": \")[0]: rule.split(\": \")[1] for rule in test_string.replace('\"', '').split(\"\\n\\n\")[0].split(\"\\n\")}\n",
    "test_inputs = test_string.split(\"\\n\\n\")[1].split(\"\\n\")"
   ]
  },
  {
   "cell_type": "code",
   "execution_count": 1190,
   "metadata": {},
   "outputs": [],
   "source": [
    "test_string2 = \"\"\"42: 9 14 | 10 1\n",
    "9: 14 27 | 1 26\n",
    "10: 23 14 | 28 1\n",
    "1: \"a\"\n",
    "11: 42 31\n",
    "5: 1 14 | 15 1\n",
    "19: 14 1 | 14 14\n",
    "12: 24 14 | 19 1\n",
    "16: 15 1 | 14 14\n",
    "31: 14 17 | 1 13\n",
    "6: 14 14 | 1 14\n",
    "2: 1 24 | 14 4\n",
    "0: 8 11\n",
    "13: 14 3 | 1 12\n",
    "15: 1 | 14\n",
    "17: 14 2 | 1 7\n",
    "23: 25 1 | 22 14\n",
    "28: 16 1\n",
    "4: 1 1\n",
    "20: 14 14 | 1 15\n",
    "3: 5 14 | 16 1\n",
    "27: 1 6 | 14 18\n",
    "14: \"b\"\n",
    "21: 14 1 | 1 14\n",
    "25: 1 1 | 1 14\n",
    "22: 14 14\n",
    "8: 42\n",
    "26: 14 22 | 1 20\n",
    "18: 15 15\n",
    "7: 14 5 | 1 21\n",
    "24: 14 1\n",
    "\n",
    "abbbbbabbbaaaababbaabbbbabababbbabbbbbbabaaaa\n",
    "bbabbbbaabaabba\n",
    "babbbbaabbbbbabbbbbbaabaaabaaa\n",
    "aaabbbbbbaaaabaababaabababbabaaabbababababaaa\n",
    "bbbbbbbaaaabbbbaaabbabaaa\n",
    "bbbababbbbaaaaaaaabbababaaababaabab\n",
    "ababaaaaaabaaab\n",
    "ababaaaaabbbaba\n",
    "baabbaaaabbaaaababbaababb\n",
    "abbbbabbbbaaaababbbbbbaaaababb\n",
    "aaaaabbaabaaaaababaa\n",
    "aaaabbaaaabbaaa\n",
    "aaaabbaabbaaaaaaabbbabbbaaabbaabaaa\n",
    "babaaabbbaaabaababbaabababaaab\n",
    "aabbbbbaabbbaaaaaabbbbbababaaaaabbaaabba\"\"\"\n",
    "test_rules2 = {rule.split(\": \")[0]: rule.split(\": \")[1] for rule in test_string2.replace('\"', '').split(\"\\n\\n\")[0].split(\"\\n\")}\n",
    "test_inputs2 = test_string2.split(\"\\n\\n\")[1].split(\"\\n\")"
   ]
  },
  {
   "cell_type": "code",
   "execution_count": 1191,
   "metadata": {},
   "outputs": [],
   "source": [
    "with open('input19.txt') as f:\n",
    "    lines_str = f.read()\n",
    "    line_rules = {rule.split(\": \")[0]: rule.split(\": \")[1] for rule in lines_str.replace('\"', '').split(\"\\n\\n\")[0].split(\"\\n\")}\n",
    "    line_inputs = lines_str.split(\"\\n\\n\")[1].split(\"\\n\")"
   ]
  },
  {
   "cell_type": "code",
   "execution_count": 1172,
   "metadata": {},
   "outputs": [],
   "source": [
    "def fill_rules(target, rules, end_letters={\"a\",\"b\"}):\n",
    "    if rules[target] in end_letters:\n",
    "        return rules[target]\n",
    "    rgx_parts = rules[target].split(\" \")\n",
    "    rgx = \"\"\n",
    "    for r in rgx_parts:\n",
    "        if r == \"|\":\n",
    "            rgx += r\n",
    "        else:\n",
    "            rgx += fill_rules(r, rules)\n",
    "    if \"|\" in rgx:\n",
    "        rgx = f\"({rgx})\"\n",
    "    return rgx"
   ]
  },
  {
   "cell_type": "code",
   "execution_count": 1177,
   "metadata": {},
   "outputs": [],
   "source": [
    "def find_matching(inputs, rules):\n",
    "    regex = fill_rules(\"0\", rules)\n",
    "    return sum([int(re.match(f\"^{regex}$\", string) != None) for string in inputs])"
   ]
  },
  {
   "cell_type": "markdown",
   "metadata": {},
   "source": [
    "## Part 1"
   ]
  },
  {
   "cell_type": "code",
   "execution_count": 1178,
   "metadata": {},
   "outputs": [
    {
     "data": {
      "text/plain": [
       "2"
      ]
     },
     "execution_count": 1178,
     "metadata": {},
     "output_type": "execute_result"
    }
   ],
   "source": [
    "find_matching(test_inputs, test_rules)"
   ]
  },
  {
   "cell_type": "code",
   "execution_count": 1179,
   "metadata": {},
   "outputs": [
    {
     "data": {
      "text/plain": [
       "230"
      ]
     },
     "execution_count": 1179,
     "metadata": {},
     "output_type": "execute_result"
    }
   ],
   "source": [
    "find_matching(line_inputs, line_rules)"
   ]
  },
  {
   "cell_type": "markdown",
   "metadata": {},
   "source": [
    "## Part 2"
   ]
  },
  {
   "cell_type": "code",
   "execution_count": 1195,
   "metadata": {},
   "outputs": [],
   "source": [
    "rules_update = {\n",
    "    '8': '42 | 42 42 | 42 42 42 | 42 42 42 42 | 42 42 42 42 42 | 42 42 42 42 42 42 | 42 42 42 42 42 42 | 42 42 42 42 42 42 42 | 42 42 42 42 42 42 42 42 | 42 42 42 42 42 42 42 42 42',\n",
    "    '11': '42 31 | 42 42 31 31 | 42 42 42 31 31 31 | 42 42 42 42 31 31 31 31 | 42 42 42 42 42 31 31 31 31 31 | 42 42 42 42 42 42 31 31 31 31 31 31 | 42 42 42 42 42 42 42 31 31 31 31 31 31 31 | 42 42 42 42 42 42 42 42 31 31 31 31 31 31 31 31 | 42 42 42 42 42 42 42 42 42 31 31 31 31 31 31 31 31 31 | 42 42 42 42 42 42 42 42 42 42 31 31 31 31 31 31 31 31 31 31'\n",
    "}"
   ]
  },
  {
   "cell_type": "code",
   "execution_count": 1196,
   "metadata": {},
   "outputs": [],
   "source": [
    "test_rules2.update(rules_update)"
   ]
  },
  {
   "cell_type": "code",
   "execution_count": 1199,
   "metadata": {},
   "outputs": [
    {
     "data": {
      "text/plain": [
       "12"
      ]
     },
     "execution_count": 1199,
     "metadata": {},
     "output_type": "execute_result"
    }
   ],
   "source": [
    "find_matching(test_inputs2, test_rules2)"
   ]
  },
  {
   "cell_type": "code",
   "execution_count": 1202,
   "metadata": {},
   "outputs": [],
   "source": [
    "line_rules.update(rules_update)"
   ]
  },
  {
   "cell_type": "code",
   "execution_count": 1203,
   "metadata": {},
   "outputs": [
    {
     "data": {
      "text/plain": [
       "341"
      ]
     },
     "execution_count": 1203,
     "metadata": {},
     "output_type": "execute_result"
    }
   ],
   "source": [
    "find_matching(line_inputs, line_rules)"
   ]
  },
  {
   "cell_type": "markdown",
   "metadata": {},
   "source": [
    "# Day 20"
   ]
  },
  {
   "cell_type": "code",
   "execution_count": 1215,
   "metadata": {},
   "outputs": [],
   "source": [
    "test_string = \"\"\"Tile 2311:\n",
    "..##.#..#.\n",
    "##..#.....\n",
    "#...##..#.\n",
    "####.#...#\n",
    "##.##.###.\n",
    "##...#.###\n",
    ".#.#.#..##\n",
    "..#....#..\n",
    "###...#.#.\n",
    "..###..###\n",
    "\n",
    "Tile 1951:\n",
    "#.##...##.\n",
    "#.####...#\n",
    ".....#..##\n",
    "#...######\n",
    ".##.#....#\n",
    ".###.#####\n",
    "###.##.##.\n",
    ".###....#.\n",
    "..#.#..#.#\n",
    "#...##.#..\n",
    "\n",
    "Tile 1171:\n",
    "####...##.\n",
    "#..##.#..#\n",
    "##.#..#.#.\n",
    ".###.####.\n",
    "..###.####\n",
    ".##....##.\n",
    ".#...####.\n",
    "#.##.####.\n",
    "####..#...\n",
    ".....##...\n",
    "\n",
    "Tile 1427:\n",
    "###.##.#..\n",
    ".#..#.##..\n",
    ".#.##.#..#\n",
    "#.#.#.##.#\n",
    "....#...##\n",
    "...##..##.\n",
    "...#.#####\n",
    ".#.####.#.\n",
    "..#..###.#\n",
    "..##.#..#.\n",
    "\n",
    "Tile 1489:\n",
    "##.#.#....\n",
    "..##...#..\n",
    ".##..##...\n",
    "..#...#...\n",
    "#####...#.\n",
    "#..#.#.#.#\n",
    "...#.#.#..\n",
    "##.#...##.\n",
    "..##.##.##\n",
    "###.##.#..\n",
    "\n",
    "Tile 2473:\n",
    "#....####.\n",
    "#..#.##...\n",
    "#.##..#...\n",
    "######.#.#\n",
    ".#...#.#.#\n",
    ".#########\n",
    ".###.#..#.\n",
    "########.#\n",
    "##...##.#.\n",
    "..###.#.#.\n",
    "\n",
    "Tile 2971:\n",
    "..#.#....#\n",
    "#...###...\n",
    "#.#.###...\n",
    "##.##..#..\n",
    ".#####..##\n",
    ".#..####.#\n",
    "#..#.#..#.\n",
    "..####.###\n",
    "..#.#.###.\n",
    "...#.#.#.#\n",
    "\n",
    "Tile 2729:\n",
    "...#.#.#.#\n",
    "####.#....\n",
    "..#.#.....\n",
    "....#..#.#\n",
    ".##..##.#.\n",
    ".#.####...\n",
    "####.#.#..\n",
    "##.####...\n",
    "##..#.##..\n",
    "#.##...##.\n",
    "\n",
    "Tile 3079:\n",
    "#.#.#####.\n",
    ".#..######\n",
    "..#.......\n",
    "######....\n",
    "####.#..#.\n",
    ".#...#.##.\n",
    "#.#####.##\n",
    "..#.###...\n",
    "..#.......\n",
    "..#.###...\"\"\"\n",
    "test = {int(tile.split(\":\")[0].split()[1]): [list(t) for t in tile.split(\":\")[1].split(\"\\n\")[1:]] for tile in test_string.split(\"\\n\\n\")}"
   ]
  },
  {
   "cell_type": "code",
   "execution_count": 1223,
   "metadata": {},
   "outputs": [],
   "source": [
    "with open('input20.txt') as f:\n",
    "    lines_str = f.read()\n",
    "    lines = {int(tile.split(\":\")[0].split()[1]): [list(t) for t in tile.split(\":\")[1].split(\"\\n\")[1:]] for tile in lines_str.split(\"\\n\\n\")}"
   ]
  },
  {
   "cell_type": "code",
   "execution_count": 1239,
   "metadata": {},
   "outputs": [],
   "source": [
    "def get_borders(tile):\n",
    "    # upper, r(upper), lower, r(lower), left, r(left), right, r(right)\n",
    "    return tuple(tile[0]), tuple([*reversed(tile[0])]), tuple(tile[-1]), tuple([*reversed(tile[-1])]), tuple([t[0] for t in tile]), tuple([*reversed([t[0] for t in tile])]), tuple([t[-1] for t in tile]), tuple([*reversed([t[-1] for t in tile])])"
   ]
  },
  {
   "cell_type": "code",
   "execution_count": 1237,
   "metadata": {},
   "outputs": [],
   "source": [
    "def get_all_tiles(tiles):\n",
    "    all_tiles = {}\n",
    "    for k, v in tiles.items():\n",
    "        all_tiles[tuple(v[0])] = k\n",
    "        all_tiles[tuple([*reversed(v[0])])] = k\n",
    "        all_tiles[tuple(v[-1])] = k\n",
    "        all_tiles[tuple([*reversed(v[-1])])] = k\n",
    "        all_tiles[tuple([t[0] for t in v])] = k\n",
    "        all_tiles[tuple([*reversed([t[0] for t in v])])] = k\n",
    "        all_tiles[tuple([t[-1] for t in v])] = k\n",
    "        all_tiles[tuple([*reversed([t[-1] for t in v])])] = k\n",
    "    return all_tiles"
   ]
  },
  {
   "cell_type": "code",
   "execution_count": 1236,
   "metadata": {},
   "outputs": [
    {
     "data": {
      "text/plain": [
       "{('.', '.', '#', '#', '.', '#', '.', '.', '#', '.'): 1427,\n",
       " ('.', '#', '.', '.', '#', '.', '#', '#', '.', '.'): 1427,\n",
       " ('.', '.', '#', '#', '#', '.', '.', '#', '#', '#'): 2311,\n",
       " ('#', '#', '#', '.', '.', '#', '#', '#', '.', '.'): 2311,\n",
       " ('.', '#', '#', '#', '#', '#', '.', '.', '#', '.'): 1951,\n",
       " ('.', '#', '.', '.', '#', '#', '#', '#', '#', '.'): 1951,\n",
       " ('.', '.', '.', '#', '.', '#', '#', '.', '.', '#'): 3079,\n",
       " ('#', '.', '.', '#', '#', '.', '#', '.', '.', '.'): 3079,\n",
       " ('#', '.', '#', '#', '.', '.', '.', '#', '#', '.'): 2729,\n",
       " ('.', '#', '#', '.', '.', '.', '#', '#', '.', '#'): 2729,\n",
       " ('#', '.', '.', '.', '#', '#', '.', '#', '.', '.'): 1951,\n",
       " ('.', '.', '#', '.', '#', '#', '.', '.', '.', '#'): 1951,\n",
       " ('#', '#', '.', '#', '.', '.', '#', '.', '.', '#'): 1951,\n",
       " ('#', '.', '.', '#', '.', '.', '#', '.', '#', '#'): 1951,\n",
       " ('#', '#', '#', '#', '.', '.', '.', '#', '#', '.'): 2473,\n",
       " ('.', '#', '#', '.', '.', '.', '#', '#', '#', '#'): 2473,\n",
       " ('.', '.', '.', '.', '.', '#', '#', '.', '.', '.'): 1171,\n",
       " ('.', '.', '.', '#', '#', '.', '.', '.', '.', '.'): 1171,\n",
       " ('#', '#', '#', '.', '.', '.', '.', '#', '#', '.'): 1171,\n",
       " ('.', '#', '#', '.', '.', '.', '.', '#', '#', '#'): 1171,\n",
       " ('.', '#', '.', '.', '#', '.', '.', '.', '.', '.'): 1489,\n",
       " ('.', '.', '.', '.', '.', '#', '.', '.', '#', '.'): 1489,\n",
       " ('#', '#', '#', '.', '#', '#', '.', '#', '.', '.'): 1489,\n",
       " ('.', '.', '#', '.', '#', '#', '.', '#', '#', '#'): 1489,\n",
       " ('#', '.', '.', '#', '.', '.', '.', '.', '.', '.'): 2729,\n",
       " ('.', '.', '.', '.', '.', '.', '#', '.', '.', '#'): 2729,\n",
       " ('.', '.', '#', '#', '#', '.', '#', '.', '#', '.'): 2473,\n",
       " ('.', '#', '.', '#', '.', '#', '#', '#', '.', '.'): 2473,\n",
       " ('#', '#', '.', '#', '.', '#', '.', '.', '.', '.'): 1489,\n",
       " ('.', '.', '.', '.', '#', '.', '#', '.', '#', '#'): 1489,\n",
       " ('#', '.', '.', '.', '#', '#', '.', '#', '.', '#'): 2971,\n",
       " ('#', '.', '#', '.', '#', '#', '.', '.', '.', '#'): 2971,\n",
       " ('#', '.', '.', '.', '.', '#', '#', '#', '#', '.'): 2473,\n",
       " ('.', '#', '#', '#', '#', '.', '.', '.', '.', '#'): 2473,\n",
       " ('.', '.', '.', '#', '#', '#', '.', '#', '.', '.'): 3079,\n",
       " ('.', '.', '#', '.', '#', '#', '#', '.', '.', '.'): 3079,\n",
       " ('.', '.', '#', '.', '#', '.', '.', '.', '.', '#'): 2971,\n",
       " ('#', '.', '.', '.', '.', '#', '.', '#', '.', '.'): 2971,\n",
       " ('.', '.', '.', '#', '.', '#', '.', '#', '.', '#'): 2729,\n",
       " ('#', '.', '#', '.', '#', '.', '#', '.', '.', '.'): 2729,\n",
       " ('.', '#', '#', '#', '.', '.', '#', '.', '.', '.'): 2971,\n",
       " ('.', '.', '.', '#', '.', '.', '#', '#', '#', '.'): 2971,\n",
       " ('.', '#', '.', '.', '.', '.', '#', '#', '#', '#'): 2729,\n",
       " ('#', '#', '#', '#', '.', '.', '.', '.', '#', '.'): 2729,\n",
       " ('#', '.', '#', '.', '#', '#', '#', '#', '#', '.'): 3079,\n",
       " ('.', '#', '#', '#', '#', '#', '.', '#', '.', '#'): 3079,\n",
       " ('.', '#', '.', '.', '.', '.', '#', '.', '.', '.'): 3079,\n",
       " ('.', '.', '.', '#', '.', '.', '.', '.', '#', '.'): 3079}"
      ]
     },
     "execution_count": 1236,
     "metadata": {},
     "output_type": "execute_result"
    }
   ],
   "source": [
    "all_tiles"
   ]
  },
  {
   "cell_type": "code",
   "execution_count": null,
   "metadata": {},
   "outputs": [],
   "source": []
  }
 ],
 "metadata": {
  "kernelspec": {
   "display_name": "Python 3",
   "language": "python",
   "name": "python3"
  },
  "language_info": {
   "codemirror_mode": {
    "name": "ipython",
    "version": 3
   },
   "file_extension": ".py",
   "mimetype": "text/x-python",
   "name": "python",
   "nbconvert_exporter": "python",
   "pygments_lexer": "ipython3",
   "version": "3.8.5"
  }
 },
 "nbformat": 4,
 "nbformat_minor": 4
}
